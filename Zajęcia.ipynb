{
 "cells": [
  {
   "cell_type": "markdown",
   "metadata": {},
   "source": [
    "# Mam Windows chcę go używać\n",
    "\n",
    "Programowanie pod Windows nie jest wskazane. Może jest konieczne (dziejowo).\n",
    "- Instalacja elementów srodowiska python (np. Anaconda patrz niżej) i składników\n",
    "- Próba rozwiązywania pojawiających swoich problemów \n",
    "\n",
    "\n",
    "# Mam Windows chcę poznać inne środowisko \n",
    "\n",
    "- Zainstalowanie VirtualBox na Windows\n",
    "- Posiadać co najmniej 1,5GB RAM / 30GB przestrzeni na dysku\n",
    "- Na maszynie jest całe wstępnie niezbędne środowisko\n"
   ]
  },
  {
   "cell_type": "markdown",
   "metadata": {},
   "source": [
    "##  Elementy systemu (zainstalowane na maszynie)\n",
    "\n",
    "Jesli nie używa się maszyny wirtualnej trzeba je zainstalować samemu u siebie.\n",
    "\n",
    "- GIT\n",
    "- Dystrybucja Pythona (Anaconda https://anaconda.org)\n",
    "- - Na maszynie dla oszczędności miejsca Miniconda z (matplotlib, jupyter\n",
    "- Edytor kodu źródłowego\n",
    "- - Można używać PyCahrm Community Edition (darmowy)\n",
    "- - Na maszynie zainstalowano geany\n",
    "- jupyter\n",
    "- \n"
   ]
  },
  {
   "cell_type": "code",
   "execution_count": null,
   "metadata": {
    "collapsed": true
   },
   "outputs": [],
   "source": []
  }
 ],
 "metadata": {
  "kernelspec": {
   "display_name": "Python 3",
   "language": "python",
   "name": "python3"
  },
  "language_info": {
   "codemirror_mode": {
    "name": "ipython",
    "version": 3
   },
   "file_extension": ".py",
   "mimetype": "text/x-python",
   "name": "python",
   "nbconvert_exporter": "python",
   "pygments_lexer": "ipython3",
   "version": "3.5.2"
  }
 },
 "nbformat": 4,
 "nbformat_minor": 0
}
