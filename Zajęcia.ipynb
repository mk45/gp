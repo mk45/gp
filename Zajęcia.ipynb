{
 "cells": [
  {
   "cell_type": "markdown",
   "metadata": {},
   "source": [
    "# Ten kurs\n",
    "\n",
    "- VirtualBox https://www.virtualbox.org\n",
    "- Materiały pod adresem https://github.com/mk45/gplp\n",
    "- Maszyna wirtualna na googledrive https://drive.google.com/file/d/0B-WJY4K74F-yQUtvcERyQUs4QWc/view?usp=sharing\n",
    "- Kurs pythona https://www.sololearn.com/Course/Python/\n",
    "    - Polecam wersję mobilną tego dostawcy \n",
    "        - można robić w wolnym czasie\n",
    "        - sprawdzianiki (ćwiczenia)\n",
    "    - Mozna \n",
    "- Materiały w Jupyter notebook\n",
    "- Google - przyjaciel\n",
    "- Przebieg\n",
    "    - Ogólniki i wstępy koncepcyjne (poznanie Linuxa)\n",
    "    - Python wstęp koncepcyjny\n",
    "    - Python cd.\n",
    "    - Przykładowy problem i rozwiązanie\n",
    "    - Przykłady cd\n",
    "    - Bazy danych\n",
    "    - Qgis\n",
    "    - ...\n",
    "    "
   ]
  },
  {
   "cell_type": "markdown",
   "metadata": {},
   "source": [
    "# Biurko planisty przestrzennego\n",
    "\n",
    "- Koncepcja biurka\n",
    "- Zainstalowanie VirtualBox na Windows\n",
    "- Posiadać co najmniej 1,5GB RAM / 30GB przestrzeni na dysku\n",
    "- Na maszynie jest całe (wstępnie niezbędne) środowisko "
   ]
  },
  {
   "cell_type": "markdown",
   "metadata": {},
   "source": [
    "##  Elementy systemu (zainstalowane na maszynie), których będziemy używali\n",
    "\n",
    "- GIT\n",
    "- Qgis\n",
    "- Dystrybucja Pythona (Anaconda https://anaconda.org)\n",
    "    - Na maszynie dla oszczędności miejsca Miniconda z (matplotlib, jupyter, pandas, r-essentials, ipython-sql)\n",
    "- Edytor kodu źródłowego Pythona\n",
    "    - Można używać PyCharm Community Edition (darmowy) (nie ma na maszynie)\n",
    "    - Na maszynie zainstalowano geany\n",
    "    - Mozna uzywać Jupytera\n",
    "- jupyter\n",
    "- sqlite3\n",
    "- spatialite\n",
    "- pakiet Libre Office"
   ]
  },
  {
   "cell_type": "markdown",
   "metadata": {
    "collapsed": true
   },
   "source": [
    "### Dlaczego maszyna  ? Dlaczego Linux? \n",
    "- Linux Mint \n",
    "    - Dystrybuowalne środowisko pracy\n",
    "    - Jednolite wspólne środowsko pracy \n",
    "- Terminal jako główne narzędzie pracy (prawie niemożliwe do uzyskania podobnej siły poza *nix)\n",
    "- Stabilność.\n",
    "- Skrojony pod system pojęciowy programisty/developera.\n",
    "- Zapewnienie przenośności na wstępie.\n",
    "- Kocepcja maszyny wirtualnej\n",
    "- Co? gdzie?\n",
    "    - Instalacja maszyny\n",
    "   "
   ]
  },
  {
   "cell_type": "markdown",
   "metadata": {},
   "source": [
    "### Koncepcja termala\n",
    "- Miejsce komunikacji z komputerem\n",
    "- Wszystkie działania wykonuje jakiś program\n",
    "- Wpisywanie poleceń\n",
    "    - Poprzednie polecenie\n",
    "    - Autouzupełnianie\n",
    "    - Błędy\n",
    "- Koncepcja katalogu roboczego\n",
    "    - Katalog\n",
    "    - .\n",
    "    - ..\n",
    "    - /\n",
    "    - ~\n",
    "- Koncepcja poleceń programu\n",
    "    - qgis\n",
    "- podstawowe komendy\n",
    "    - man\n",
    "        - wychodzenie z man / less innych\n",
    "        - wychodzenie z vi\n",
    "    - ls\n",
    "    - pwd\n",
    "    - cp \n",
    "    - mkdir\n",
    "    - mv\n",
    "    - cat/less\n",
    "    - nano\n",
    "    - Flagi uruchomieniowe\n",
    "- inne dla chętnych \n",
    "- Staje się zawsze miejscem zarządzania techniczną stroną wytwarzania oprogramowania."
   ]
  },
  {
   "cell_type": "markdown",
   "metadata": {},
   "source": [
    "### Dane\n",
    "- koncepcja pliku\n",
    "- plik a program\n",
    "    python test.py\n",
    "- Typy danych\n",
    "    - Pliki binare\n",
    "        - Obrazy\n",
    "        - PDF\n",
    "        - Arkusze kalkulacyjne\n",
    "        - Pliki procesorów tekstu\n",
    "        - Shapefile\n",
    "        - ...\n",
    "    - Pliki tekstowe\n",
    "        - Skrypty programów /kody źródłowe (skrypt.py)\n",
    "        - Pliki JSON (geojson)\n",
    "        - Pliki XML (HTML,GML)\n",
    "        - Plik rtf\n",
    "        - Pliki LaTeX $1-e^{-\\lambda x}$\n",
    "        - Markdown\n",
    "        - ...\n",
    "- "
   ]
  },
  {
   "cell_type": "markdown",
   "metadata": {},
   "source": [
    "### GIT\n",
    "- Wersje w życiu codziennym\n",
    "- Koncepcja systemu kontroli wersji\n",
    "    - śledzenie zmian (rozwoju projektu) \n",
    "    - śledzenie autorstwa zmian\n",
    "    - Wycofywanie zmian\n",
    "    - Zarządzanie pracą wielu osób dokonujących zmiany (kolizje) \n",
    "    - Oglądanie różnic pomiedzy  wersjami\n",
    "- pliki tekstowe a pliki binarne w repozytorium\n",
    "- GIT na platformie AZON (dla kadry)\n",
    "- GIT rozproszony system zarządzania kodem\n",
    "- Podstawowe koncepcje działań\n",
    "    - commit\n",
    "    - chceckout\n",
    "    - pull\n",
    "    - push"
   ]
  },
  {
   "cell_type": "markdown",
   "metadata": {},
   "source": [
    "### Baza danch\n",
    "- Koncepcja bazy danych\n",
    "- Bazy danych w danych przestrzennych (na codzień)\n",
    "    - Spatialite\n",
    "    - Geopackage\n",
    "    - Postgis\n",
    "- Koncepcja struktury \n",
    "- Przechowywanie danych w sposób tabel (relacje)\n",
    "    - Tabela \n",
    "    - Rekord / Wiersz / Krotka\n",
    "    - Index\n",
    "    - Klucze obce\n",
    "    \n",
    "- Zapytania\n",
    "    - Tworzenie struktury\n",
    "    - Ozyskiwanie danych\n",
    "    - Modyfikowanie danych\n"
   ]
  },
  {
   "cell_type": "markdown",
   "metadata": {
    "collapsed": true
   },
   "source": [
    "### Programowanie (Python)\n",
    "\n",
    "\n",
    "- algorytm jako przepis jak z danych wejściowych zrobić dane wyjściowe\n",
    "    - przepis wyjety z konkretnego języka\n",
    "    - przykład minimalnego elementu\n",
    "    - Dzielenie problemu na podproblemy\n",
    "    \n",
    "\n",
    "- co to jest python\n",
    "    - Języki kompilowalne a interpretowalne.\n",
    "    - Przenośny\n",
    "    - Dlaczego python\n",
    "        - Rozwiązanie prolemów informatyki - nowy język\n",
    "        - Łatwy przyjemny szybka implementacja (pisanie) łatwy kod (do czytania)\n",
    "        - Dużo programistów (społeczność)\n",
    "        - \n",
    "    - różne interpretery\n",
    "    - różne wersje języka 2/3\n",
    "    \n",
    "- Pisanie używanie już napisanyh fragmentów i bibliotek\n",
    "    - wynalazek koła od nowa\n",
    "    - trzeba doczytać ich dokumentację (po angielsku)\n",
    "    \n",
    "- google - przyjaciel\n",
    "\n",
    "- Inni muszą zroumieć. Programista musi pamiętać co napisał np. po 4 latach.\n",
    "    - Kod po angielsku (najlepiej)\n",
    "    - Dużo komentarzy\n",
    "    - Nazwy zmiennych opisują zawierane dane \n",
    "    \n",
    "- uruchamianie programów w pythonie\n",
    "    - nazwa_skrypyu.py\n",
    "    - bardzo pierwszy program\n",
    "        - wypisanie imienia\n",
    "    - python skrypt.py\n",
    "    - "
   ]
  },
  {
   "cell_type": "markdown",
   "metadata": {},
   "source": [
    "### QGIS\n",
    "\n",
    "- Otwarty pakiet gisowy\n",
    "- Ma wystarczającą siłę do wilu zadań\n",
    "- Dużo wtyczek\n",
    "    - Wtyczki można pisać samemu\n",
    "    - Wtyczki są proste publikowane inni mogą uzywać\n",
    "\n",
    "- Tworzenie danych geoprzestrzennych\n",
    "- Szybkie analizy reprezentacje graficzne danych\n",
    "- alternatywa dla drogich odowiedników\n",
    "- Obsługa wielu formatów danych"
   ]
  },
  {
   "cell_type": "code",
   "execution_count": null,
   "metadata": {
    "collapsed": true
   },
   "outputs": [],
   "source": []
  }
 ],
 "metadata": {
  "kernelspec": {
   "display_name": "Python 3",
   "language": "python",
   "name": "python3"
  },
  "language_info": {
   "codemirror_mode": {
    "name": "ipython",
    "version": 3
   },
   "file_extension": ".py",
   "mimetype": "text/x-python",
   "name": "python",
   "nbconvert_exporter": "python",
   "pygments_lexer": "ipython3",
   "version": "3.5.2"
  }
 },
 "nbformat": 4,
 "nbformat_minor": 0
}
