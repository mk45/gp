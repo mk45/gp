{
 "cells": [
  {
   "cell_type": "markdown",
   "metadata": {},
   "source": [
    "# Ten kurs\n",
    "\n",
    "- VirtualBox https://www.virtualbox.org\n",
    "- Materiały pod adresem https://github.com/mk45/gplp\n",
    "- Maszyna wirtualna na googledrive https://drive.google.com/file/d/0B-WJY4K74F-yQUtvcERyQUs4QWc/view?usp=sharing\n",
    "- Kurs pythona https://www.sololearn.com/Course/Python/\n",
    "    - Polecam wersję mobilną tego dostawcy (android https://play.google.com/store/apps/details?id=com.sololearn IPhone .. .? ) \n",
    "        - można robić w wolnym czasie\n",
    "        - sprawdzianiki (ćwiczenia)\n",
    "    - W przyszłości kurs SQL od tego samego dostawcy\n",
    "- Materiały w Jupyter notebook\n",
    "- Google - przyjaciel\n",
    "- Ćwiczenia https://projecteuler.net/\n",
    "    - pierwsze 5 zadań na rozgrzewkę.\n",
    "- Przebieg\n",
    "    - Ogólniki i wstępy koncepcyjne (poznanie Linuxa)\n",
    "    - Python wstęp koncepcyjny\n",
    "    - Python 1\n",
    "    - Python 2\n",
    "    - Przykładowy problem i rozwiązanie\n",
    "    - Przykłady cd\n",
    "    - Qgis\n",
    "    - Bazy danych\n",
    "    - ...\n",
    "    "
   ]
  },
  {
   "cell_type": "markdown",
   "metadata": {},
   "source": [
    "# Biurko planisty przestrzennego\n",
    "\n",
    "- Koncepcja biurka\n",
    "- Zainstalowanie VirtualBox na Windows\n",
    "- Posiadać co najmniej 1,5GB RAM / 30GB przestrzeni na dysku\n",
    "- Na maszynie jest całe (wstępnie niezbędne) środowisko "
   ]
  },
  {
   "cell_type": "markdown",
   "metadata": {},
   "source": [
    "##  Elementy systemu (zainstalowane na maszynie), których będziemy używali\n",
    "\n",
    "- GIT\n",
    "- Qgis\n",
    "- Dystrybucja Pythona (Anaconda https://anaconda.org)\n",
    "    - Na maszynie dla oszczędności miejsca Miniconda z (matplotlib, jupyter, pandas, r-essentials, ipython-sql)\n",
    "- Edytor kodu źródłowego Pythona\n",
    "    - Można używać PyCharm Community Edition (darmowy) (nie ma na maszynie)\n",
    "    - Na maszynie zainstalowano geany\n",
    "        - konfiguacja tab jako spacje pod geany http://stackoverflow.com/questions/5287849/how-to-stay-tab-free-in-geany-on-ubuntu\n",
    "    - Mozna uzywać Jupytera\n",
    "- jupyter\n",
    "- sqlite3\n",
    "- spatialite\n",
    "- pakiet Libre Office"
   ]
  },
  {
   "cell_type": "markdown",
   "metadata": {
    "collapsed": true
   },
   "source": [
    "### Dlaczego maszyna  ? Dlaczego Linux? \n",
    "- Linux Mint \n",
    "    - Dystrybuowalne środowisko pracy\n",
    "    - Jednolite wspólne środowsko pracy \n",
    "- Terminal jako główne narzędzie pracy (prawie niemożliwe do uzyskania podobnej siły poza *nix)\n",
    "- Stabilność.\n",
    "- Skrojony pod system pojęciowy programisty/developera.\n",
    "- Zapewnienie przenośności na wstępie.\n",
    "- Kocepcja maszyny wirtualnej\n",
    "- Co? gdzie?\n",
    "    - Instalacja maszyny\n",
    "   "
   ]
  },
  {
   "cell_type": "markdown",
   "metadata": {},
   "source": [
    "### Koncepcja termala\n",
    "- Miejsce komunikacji z komputerem\n",
    "- Wszystkie działania wykonuje jakiś program\n",
    "- Wpisywanie poleceń\n",
    "    - Poprzednie polecenie\n",
    "    - Autouzupełnianie\n",
    "    - Błędy\n",
    "- Koncepcja katalogu roboczego\n",
    "    - Katalog\n",
    "    - .\n",
    "    - ..\n",
    "    - /\n",
    "    - ~\n",
    "- Koncepcja poleceń programu\n",
    "    - qgis\n",
    "- podstawowe komendy\n",
    "    - man\n",
    "        - wychodzenie z man / less innych\n",
    "        - wychodzenie z vi\n",
    "    - ls\n",
    "    - pwd\n",
    "    - cp \n",
    "    - mkdir\n",
    "    - mv\n",
    "    - cat/less\n",
    "    - nano\n",
    "    - Flagi uruchomieniowe\n",
    "- inne dla chętnych \n",
    "- Staje się zawsze miejscem zarządzania techniczną stroną wytwarzania oprogramowania."
   ]
  },
  {
   "cell_type": "markdown",
   "metadata": {},
   "source": [
    "### Dane\n",
    "- koncepcja pliku\n",
    "- plik a program\n",
    "    python test.py\n",
    "- Typy danych\n",
    "    - Pliki binare\n",
    "        - Obrazy\n",
    "        - PDF\n",
    "        - Arkusze kalkulacyjne\n",
    "        - Pliki procesorów tekstu\n",
    "        - Shapefile\n",
    "        - ...\n",
    "    - Pliki tekstowe\n",
    "        - Skrypty programów /kody źródłowe (skrypt.py)\n",
    "        - Pliki JSON (geojson)\n",
    "        - Pliki XML (HTML,GML)\n",
    "        - Plik rtf\n",
    "        - Pliki LaTeX $1-e^{-\\lambda x}$\n",
    "        - Markdown\n",
    "        - ...\n",
    "- "
   ]
  },
  {
   "cell_type": "markdown",
   "metadata": {},
   "source": [
    "### GIT\n",
    "- Wersje w życiu codziennym\n",
    "- Koncepcja systemu kontroli wersji\n",
    "    - śledzenie zmian (rozwoju projektu) \n",
    "    - śledzenie autorstwa zmian\n",
    "    - Wycofywanie zmian\n",
    "    - Zarządzanie pracą wielu osób dokonujących zmiany (kolizje) \n",
    "    - Oglądanie różnic pomiedzy  wersjami\n",
    "- pliki tekstowe a pliki binarne w repozytorium\n",
    "- GIT na platformie AZON (dla kadry)\n",
    "- GIT rozproszony system zarządzania kodem\n",
    "- Podstawowe koncepcje działań\n",
    "    - commit\n",
    "    - chceckout\n",
    "    - pull\n",
    "    - push"
   ]
  },
  {
   "cell_type": "markdown",
   "metadata": {},
   "source": [
    "### Baza danch\n",
    "- Koncepcja bazy danych\n",
    "- Bazy danych w danych przestrzennych (na codzień)\n",
    "    - Spatialite\n",
    "    - Geopackage\n",
    "    - Postgis\n",
    "- Koncepcja struktury \n",
    "- Przechowywanie danych w sposób tabel (relacje)\n",
    "    - Tabela \n",
    "    - Rekord / Wiersz / Krotka\n",
    "    - Index\n",
    "    - Klucze obce\n",
    "    \n",
    "- Zapytania\n",
    "    - Tworzenie struktury\n",
    "    - Ozyskiwanie danych\n",
    "    - Modyfikowanie danych\n"
   ]
  },
  {
   "cell_type": "markdown",
   "metadata": {
    "collapsed": true
   },
   "source": [
    "### Programowanie (Python)\n",
    "\n",
    "\n",
    "- algorytm jako przepis jak z danych wejściowych zrobić dane wyjściowe\n",
    "    - przepis wyjety z konkretnego języka\n",
    "    - przykład minimalnego elementu\n",
    "    - Dzielenie problemu na podproblemy\n",
    "    \n",
    "\n",
    "- co to jest python\n",
    "    - Języki kompilowalne a interpretowalne.\n",
    "    - Przenośny\n",
    "    - Dlaczego python\n",
    "        - Rozwiązanie prolemów informatyki - nowy język\n",
    "        - Łatwy przyjemny szybka implementacja (pisanie) łatwy kod (do czytania)\n",
    "        - Dużo programistów (społeczność)\n",
    "        - \n",
    "    - różne interpretery\n",
    "    - różne wersje języka 2/3\n",
    "    \n",
    "- Pisanie używanie już napisanyh fragmentów i bibliotek\n",
    "    - wynalazek koła od nowa\n",
    "    - trzeba doczytać ich dokumentację (po angielsku)\n",
    "    \n",
    "- google - przyjaciel\n",
    "\n",
    "- Inni muszą zroumieć. Programista musi pamiętać co napisał np. po 4 latach.\n",
    "    - Kod po angielsku (najlepiej)\n",
    "    - Dużo komentarzy\n",
    "    - Nazwy zmiennych opisują zawierane dane \n",
    "    \n",
    "- uruchamianie programów w pythonie\n",
    "    - nazwa_skrypyu.py\n",
    "    - bardzo pierwszy program\n",
    "        - wypisanie imienia\n",
    "    - python skrypt.py\n",
    "    - "
   ]
  },
  {
   "cell_type": "markdown",
   "metadata": {},
   "source": [
    "### QGIS\n",
    "\n",
    "- Otwarty pakiet gisowy\n",
    "- Ma wystarczającą siłę do wilu zadań\n",
    "- Dużo wtyczek\n",
    "    - Wtyczki można pisać samemu\n",
    "    - Wtyczki są proste publikowane inni mogą uzywać\n",
    "\n",
    "- Tworzenie danych geoprzestrzennych\n",
    "- Szybkie analizy reprezentacje graficzne danych\n",
    "- alternatywa dla drogich odowiedników\n",
    "- Obsługa wielu formatów danych"
   ]
  },
  {
   "cell_type": "markdown",
   "metadata": {
    "collapsed": true
   },
   "source": [
    "### ZADANIA\n",
    "1. Zadania z https://projecteuler.net/archives pierwsze dwa na pewno reszta wg woli. Każde zadanie powinno być w osobnym pliku z odpowiednią nazwą.\n",
    "  0. Zadanie rozgrzewkowe funkcja która szuka minimum (najmniejszy element na zadanej liście). Jako wejscie wymyslić listę liczb dwucyfrowych. \n",
    "  1. Pierwszy problem z projecteuler (Prosty) \n",
    "  2. Drugi problem (Rozbicie na dwie funkcje - rozwiązania problemu i zwracającą n tą liczbę Fibbonacciego)\n",
    "  3. Trzeci problem (TRUDNY! potrzeba implementacji sita Erastotenesa (patrz wiki) DLA AMBITNYCH)\n",
    "  4. Czwarty problem (zrobić z użyciem funkcji str() int() i reverse. Patrz dokumentacja Pythona)\n",
    "  5. Piąty problem (podchwytliwy lepiej myśleć niż pisać)\n",
    "  \n",
    "2. Zadania na danych w pliku\n",
    "  1. dostęp do plików czytanie geojson czytanie shapefile\n",
    "    1. użycie odpowiednich bibliotek przeczytanie i zrozumienie dokumentacji\n",
    "    2. <..ważne biblioteki tu>\n",
    "  2. Znależienie sumy ludności w rejonach dla opola\n",
    "  3. Poczytanie o systemach georeferencji\n",
    "  4. Sprawdzenie która droga (odcinek drogi) w azji jest najdłuższa w stosunku do długości którą pokonuje\n",
    "  5. Przesunięcie punktów żeby pasowały do punktów skryżoawań w drogach\n",
    "  \n",
    "3. QGIS \n",
    "  1. Zmiana formatów danych\n",
    "  2. Rysowanie dodawanie elementów\n",
    "  3. Dodawanie danych"
   ]
  },
  {
   "cell_type": "code",
   "execution_count": null,
   "metadata": {
    "collapsed": true
   },
   "outputs": [],
   "source": []
  }
 ],
 "metadata": {
  "kernelspec": {
   "display_name": "Python 3",
   "language": "python",
   "name": "python3"
  },
  "language_info": {
   "codemirror_mode": {
    "name": "ipython",
    "version": 3
   },
   "file_extension": ".py",
   "mimetype": "text/x-python",
   "name": "python",
   "nbconvert_exporter": "python",
   "pygments_lexer": "ipython3",
   "version": "3.6.0"
  }
 },
 "nbformat": 4,
 "nbformat_minor": 0
}
