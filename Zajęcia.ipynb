{
 "cells": [
  {
   "cell_type": "markdown",
   "metadata": {},
   "source": [
    "# Mam Windows chcę go używać\n",
    "\n",
    "Dlaczego nie warto? Dlaczego można? Dlacego to jest gorsza droga?\n",
    "\n",
    "- Instalacja elementów srodowiska python (np. Anaconda patrz niżej) i składników\n",
    "- Próba rozwiązywania pojawiających problemów \n",
    "\n",
    "\n",
    "# Mam Windows chcę poznać inne środowisko \n",
    "\n",
    "- Zainstalowanie VirtualBox na Windows\n",
    "- Posiadać co najmniej 1,5GB RAM / 30GB przestrzeni na dysku\n",
    "- Na maszynie jest całe (wstępnie niezbędne) środowisko\n"
   ]
  },
  {
   "cell_type": "markdown",
   "metadata": {},
   "source": [
    "##  Elementy systemu (zainstalowane na maszynie), których będziemy używali\n",
    "\n",
    "Jesli nie używa się maszyny wirtualnej trzeba je zainstalować samemu u siebie.\n",
    "\n",
    "- GIT\n",
    "- Dystrybucja Pythona (Anaconda https://anaconda.org)\n",
    "    - Na maszynie dla oszczędności miejsca Miniconda z (matplotlib, jupyter, pandas, r-essentials, ipython-sql)\n",
    "- Edytor kodu źródłowego\n",
    "    - Można używać PyCharm Community Edition (darmowy) (nie ma na maszynie)\n",
    "    - Na maszynie zainstalowano geany\n",
    "- jupyter\n",
    "- sqlite3\n"
   ]
  },
  {
   "cell_type": "markdown",
   "metadata": {
    "collapsed": true
   },
   "source": [
    "### Dlaczego maszyna  ? Dlaczego Linux? \n",
    "- Linux Mint \n",
    "    - Dystrybuowalne środowisko pracy\n",
    "    - Jednolite wspólne środowsko pracy \n",
    "- Terminal jako główne narzędzie pracy (prawie niemożliwe do uzyskania podobnej siły poza *nix)\n",
    "- Stabilność.\n",
    "- Skrojony pod system pojęciowy programisty/developera.\n",
    "- Zapewnienie przenośności na wstępie.\n",
    "- Kocepcja maszyny wirtualnej\n",
    "- Co? gdzie?"
   ]
  },
  {
   "cell_type": "code",
   "execution_count": null,
   "metadata": {
    "collapsed": true
   },
   "outputs": [],
   "source": []
  },
  {
   "cell_type": "markdown",
   "metadata": {},
   "source": [
    "### Koncepcja termala\n",
    "- Miejsce komunikacji z komputerem\n",
    "- Wszystkie działania wykonuje jakiś program\n",
    "- Wpisywanie poleceń\n",
    "- Koncepcja katalogu roboczego\n",
    "- Koncepcja poleceń programu\n",
    "    - qgis\n",
    "- podstawowe komendy \n",
    "    - ls\n",
    "    - pwd\n",
    "    - cp \n",
    "    - mkdir\n",
    "    - mv\n",
    "    - cat/less\n",
    "    - nano\n",
    "- inne dla chętnych \n",
    "- Staje się zawsze miejscem zarządzania techniczną stroną wytwarzania oprogramowania."
   ]
  },
  {
   "cell_type": "markdown",
   "metadata": {},
   "source": [
    "### Dane\n",
    "- koncepcja pliku\n",
    "- plik a program\n",
    "- Typy danych\n",
    "    - Pliki binare\n",
    "    - Pliki tekstowe\n",
    "- "
   ]
  },
  {
   "cell_type": "markdown",
   "metadata": {},
   "source": [
    "### GIT\n",
    "- Wersje w życiu codziennym\n",
    "- Koncepcja systemu kontroli wersji\n",
    "    - śledzenie zmian (rozwoju projektu) \n",
    "    - śledzenie autorstwa zmian\n",
    "    - Wycofywanie zmian\n",
    "    - Zarządzanie pracą wielu osób dokonujących zmiany (kolizje) \n",
    "    - Oglądanie różnic pomiedzy  wersjami\n",
    "- pliki tekstowe a pliki binarne w repozytorium\n",
    "- GIT na platformie AZON\n"
   ]
  },
  {
   "cell_type": "code",
   "execution_count": null,
   "metadata": {
    "collapsed": true
   },
   "outputs": [],
   "source": []
  }
 ],
 "metadata": {
  "kernelspec": {
   "display_name": "Python 3",
   "language": "python",
   "name": "python3"
  },
  "language_info": {
   "codemirror_mode": {
    "name": "ipython",
    "version": 3
   },
   "file_extension": ".py",
   "mimetype": "text/x-python",
   "name": "python",
   "nbconvert_exporter": "python",
   "pygments_lexer": "ipython3",
   "version": "3.5.2"
  }
 },
 "nbformat": 4,
 "nbformat_minor": 0
}
