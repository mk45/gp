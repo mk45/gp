{
 "cells": [
  {
   "cell_type": "markdown",
   "metadata": {},
   "source": [
    "# Ten kurs\n",
    "\n",
    "- Materiały pod adresem https://github.com/mk45/gplp\n",
    "- Maszyna wirtualna na googledrive \n",
    "- Materiały w Jupyter noteook\n",
    "- Google - przyjaciel\n",
    "- Przebieg\n",
    "    - Ogólniki i wstępy koncepcyjne\n",
    "    - Python wstęp koncepcyjny\n",
    "    - Python cd.\n",
    "    - Przykładowy problem\n",
    "    "
   ]
  },
  {
   "cell_type": "markdown",
   "metadata": {},
   "source": [
    "# Biurko planisty przestrzennego\n",
    "\n",
    "- Open\n",
    "- Zainstalowanie VirtualBox na Windows\n",
    "- Posiadać co najmniej 1,5GB RAM / 30GB przestrzeni na dysku\n",
    "- Na maszynie jest całe (wstępnie niezbędne) środowisko "
   ]
  },
  {
   "cell_type": "markdown",
   "metadata": {},
   "source": [
    "##  Elementy systemu (zainstalowane na maszynie), których będziemy używali\n",
    "\n",
    "- GIT\n",
    "- Qgis\n",
    "- Dystrybucja Pythona (Anaconda https://anaconda.org)\n",
    "    - Na maszynie dla oszczędności miejsca Miniconda z (matplotlib, jupyter, pandas, r-essentials, ipython-sql)\n",
    "- Edytor kodu źródłowego Pythona\n",
    "    - Można używać PyCharm Community Edition (darmowy) (nie ma na maszynie)\n",
    "    - Na maszynie zainstalowano geany\n",
    "    - Mozna uzywać Jupytera\n",
    "- jupyter\n",
    "- sqlite3\n",
    "- spatialite\n",
    "- pakiet Libre Office"
   ]
  },
  {
   "cell_type": "markdown",
   "metadata": {
    "collapsed": true
   },
   "source": [
    "### Dlaczego maszyna  ? Dlaczego Linux? \n",
    "- Linux Mint \n",
    "    - Dystrybuowalne środowisko pracy\n",
    "    - Jednolite wspólne środowsko pracy \n",
    "- Terminal jako główne narzędzie pracy (prawie niemożliwe do uzyskania podobnej siły poza *nix)\n",
    "- Stabilność.\n",
    "- Skrojony pod system pojęciowy programisty/developera.\n",
    "- Zapewnienie przenośności na wstępie.\n",
    "- Kocepcja maszyny wirtualnej\n",
    "- Co? gdzie?"
   ]
  },
  {
   "cell_type": "markdown",
   "metadata": {},
   "source": [
    "### Koncepcja termala\n",
    "- Miejsce komunikacji z komputerem\n",
    "- Wszystkie działania wykonuje jakiś program\n",
    "- Wpisywanie poleceń\n",
    "    - Poprzednie polecenie\n",
    "    - Autouzupełnianie\n",
    "    - Błędy\n",
    "- Koncepcja katalogu roboczego\n",
    "- Koncepcja poleceń programu\n",
    "    - qgis\n",
    "- podstawowe komendy\n",
    "    - man\n",
    "    - ls\n",
    "    - pwd\n",
    "    - cp \n",
    "    - mkdir\n",
    "    - mv\n",
    "    - cat/less\n",
    "    - nano\n",
    "    - Flagi uruchomieniowe\n",
    "- inne dla chętnych \n",
    "- Staje się zawsze miejscem zarządzania techniczną stroną wytwarzania oprogramowania."
   ]
  },
  {
   "cell_type": "markdown",
   "metadata": {},
   "source": [
    "### Dane\n",
    "- koncepcja pliku\n",
    "- plik a program\n",
    "    python test.py\n",
    "- Typy danych\n",
    "    - Pliki binare\n",
    "        - Obrazy\n",
    "        - PDF\n",
    "        - Arkusze kalkulacyjne\n",
    "        - Pliki procesorów tekstu\n",
    "        - Shapefile\n",
    "        - ...\n",
    "    - Pliki tekstowe\n",
    "        - Skrypty programów /kody źródłowe (skrypt.py)\n",
    "        - Pliki JSON (geojson)\n",
    "        - Pliki XML (HTML,GML)\n",
    "        - Plik rtf\n",
    "        - Pliki LaTeX $1-e^{-\\lambda x}$\n",
    "        - Markdown\n",
    "        - ...\n",
    "- "
   ]
  },
  {
   "cell_type": "markdown",
   "metadata": {},
   "source": [
    "### GIT\n",
    "- Wersje w życiu codziennym\n",
    "- Koncepcja systemu kontroli wersji\n",
    "    - śledzenie zmian (rozwoju projektu) \n",
    "    - śledzenie autorstwa zmian\n",
    "    - Wycofywanie zmian\n",
    "    - Zarządzanie pracą wielu osób dokonujących zmiany (kolizje) \n",
    "    - Oglądanie różnic pomiedzy  wersjami\n",
    "- pliki tekstowe a pliki binarne w repozytorium\n",
    "- GIT na platformie AZON\n",
    "- GIT rozproszony system zarządzania kodem\n",
    "- Podstawowe koncepcje działań\n",
    "    - commit\n",
    "    - chceckout\n",
    "    - pull\n",
    "    - push"
   ]
  },
  {
   "cell_type": "markdown",
   "metadata": {},
   "source": [
    "### Baza danch\n",
    "- Koncepcja bazy danych\n",
    "- Przechowywanie danych w sposób tabel (relacje)\n",
    "\n",
    "- Zapytania\n",
    "    - Tworzenie struktury\n",
    "    - Ozyskiwanie danych\n",
    "    - Modyfikowanie danych\n",
    "\n",
    "- Koncepcja struktury \n",
    "    - Podstawowe informacje o strukturze\n",
    "    - Postacie normalne\n",
    "\n",
    "- \n"
   ]
  },
  {
   "cell_type": "code",
   "execution_count": null,
   "metadata": {
    "collapsed": true
   },
   "outputs": [],
   "source": []
  }
 ],
 "metadata": {
  "kernelspec": {
   "display_name": "Python 3",
   "language": "python",
   "name": "python3"
  },
  "language_info": {
   "codemirror_mode": {
    "name": "ipython",
    "version": 3
   },
   "file_extension": ".py",
   "mimetype": "text/x-python",
   "name": "python",
   "nbconvert_exporter": "python",
   "pygments_lexer": "ipython3",
   "version": "3.5.2"
  }
 },
 "nbformat": 4,
 "nbformat_minor": 0
}
