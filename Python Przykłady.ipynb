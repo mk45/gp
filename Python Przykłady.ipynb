{
 "cells": [
  {
   "cell_type": "code",
   "execution_count": 61,
   "metadata": {
    "collapsed": false
   },
   "outputs": [],
   "source": [
    "def moja_prosta(x):\n",
    "    return 3*x-7"
   ]
  },
  {
   "cell_type": "code",
   "execution_count": 62,
   "metadata": {
    "collapsed": false
   },
   "outputs": [
    {
     "data": {
      "text/plain": [
       "-4"
      ]
     },
     "execution_count": 62,
     "metadata": {},
     "output_type": "execute_result"
    }
   ],
   "source": [
    "moja_prosta(1)"
   ]
  },
  {
   "cell_type": "markdown",
   "metadata": {},
   "source": [
    "##  bmi\n",
    "body mass index\n",
    "\n",
    "bmi to iloraz wagi i wzrostu podniesionego do kwadratu\n",
    "\n",
    "$$\\large{bmi = {waga \\over wzrost ^2}}$$\n",
    "\n"
   ]
  },
  {
   "cell_type": "code",
   "execution_count": 63,
   "metadata": {
    "collapsed": true
   },
   "outputs": [],
   "source": [
    "def bmi(weight,height):\n",
    "    bmi=weight/height**2\n",
    "    return bmi"
   ]
  },
  {
   "cell_type": "code",
   "execution_count": 64,
   "metadata": {
    "collapsed": false
   },
   "outputs": [
    {
     "data": {
      "text/plain": [
       "15.094795314575533"
      ]
     },
     "execution_count": 64,
     "metadata": {},
     "output_type": "execute_result"
    }
   ],
   "source": [
    "bmi(height=1.82,weight=50)"
   ]
  },
  {
   "cell_type": "markdown",
   "metadata": {},
   "source": [
    "## Bmi advice\n",
    "\n",
    "porada słowna zwiazana z wagą i BMI\n",
    "\n",
    "- <18.5 Niedowaga\n",
    "- \\>18.5 <25 OK\n",
    "- \\>25 <30 Nadwaga\n",
    "- \\>30 Otyłość"
   ]
  },
  {
   "cell_type": "code",
   "execution_count": 65,
   "metadata": {
    "collapsed": true
   },
   "outputs": [],
   "source": [
    "def bmi_advice(weight,height):\n",
    "    my_bmi=bmi(weight,height)\n",
    "    if my_bmi<18.5:\n",
    "        print(\"Niedowaga\")\n",
    "        print(\"Ojojoj chudo\")\n",
    "    elif my_bmi>=18.5 and my_bmi<25:\n",
    "        print(\"Waga prawidłowa\")\n",
    "        print(\"OK\")\n",
    "    elif my_bmi>=25 and my_bmi<30:\n",
    "        print(\"Nadwaga\")\n",
    "        print(\"No trochę zrzuć\")\n",
    "    else:\n",
    "        print(\"Otyłość\")\n",
    "        print(\"No zadbaj o siebie!\")"
   ]
  },
  {
   "cell_type": "code",
   "execution_count": 66,
   "metadata": {
    "collapsed": false
   },
   "outputs": [
    {
     "name": "stdout",
     "output_type": "stream",
     "text": [
      "Otyłość\n",
      "No zadbaj o siebie!\n"
     ]
    }
   ],
   "source": [
    "bmi_advice(195,1.82)"
   ]
  },
  {
   "cell_type": "markdown",
   "metadata": {},
   "source": [
    "## Entropia Shannona\n",
    "\n",
    "entropia https://pl.wikipedia.org/wiki/Entropia_(teoria_informacji)\n",
    "\n",
    "Można ja obliczyć podając wartości prawdopodobieństw zdarzeń losowych pewnej zmiennej losowej X\n",
    "\n",
    "Obliczamy ją ze wzoru $$\\large{-\\sum_i p_i log_r(p_i)}$$\n"
   ]
  },
  {
   "cell_type": "code",
   "execution_count": 67,
   "metadata": {
    "collapsed": true
   },
   "outputs": [],
   "source": [
    "# to do\n",
    "# may do it as a HOMEWORK"
   ]
  },
  {
   "cell_type": "markdown",
   "metadata": {},
   "source": [
    "## Model pośrednich możliwości\n",
    "\n",
    "Problem obliczenia frakcji zakończonych podrózy  w pierścieniu odległości\n",
    "\n",
    "Zmamy ilość celów $D_r$ w każdym pierścieniu $r$ i selektywność $\\lambda$\n",
    "\n",
    "Frakcja zakończonych podrózy w pierścieniu $R$ jest zadana wzorem:\n",
    "\n",
    "$$\\huge{(1-e^{(-\\lambda\\sum_{r=0}^R D_r)}) - (1-e^{(-\\lambda\\sum_{r=0}^{R-1}D_r)}) }$$"
   ]
  },
  {
   "cell_type": "markdown",
   "metadata": {},
   "source": [
    "Przykładowe dane wejściowe"
   ]
  },
  {
   "cell_type": "code",
   "execution_count": 68,
   "metadata": {
    "collapsed": true
   },
   "outputs": [],
   "source": [
    "destinations_in_ring=[1000,500,0,3200,2700,5900,7300,4000,1500,500]\n",
    "selectivity=0.0001"
   ]
  },
  {
   "cell_type": "markdown",
   "metadata": {},
   "source": [
    "wstępne analizy"
   ]
  },
  {
   "cell_type": "code",
   "execution_count": 69,
   "metadata": {
    "collapsed": false
   },
   "outputs": [
    {
     "data": {
      "text/plain": [
       "26600"
      ]
     },
     "execution_count": 69,
     "metadata": {},
     "output_type": "execute_result"
    }
   ],
   "source": [
    "sum(destinations_in_ring)"
   ]
  },
  {
   "cell_type": "code",
   "execution_count": 70,
   "metadata": {
    "collapsed": true
   },
   "outputs": [],
   "source": [
    "def intervening_opportunity(destinations,selectivity):\n",
    "    \"\"\"\n",
    "    Returns list of the trips fraction which ends up in stated ring. \n",
    "    \n",
    "    :param destinations: list of total destinations in each ring\n",
    "    :param selectivity: model selectivity\n",
    "    :return: list of ended trip fractions\n",
    "    \"\"\"\n",
    "    # We will gather fraction for output\n",
    "    fractions=[]\n",
    "    from math import exp\n",
    "    from itertools import accumulate\n",
    "    # in each step we have to remember value of function in  previous step\n",
    "    pre_ring=0\n",
    "    for partial_sum in accumulate(destinations):\n",
    "        post_ring=1-exp(-selectivity*partial_sum)\n",
    "        fractions.append(post_ring-pre_ring)\n",
    "        pre_ring=post_ring\n",
    "    \n",
    "    return fractions"
   ]
  },
  {
   "cell_type": "code",
   "execution_count": 71,
   "metadata": {
    "collapsed": false
   },
   "outputs": [
    {
     "data": {
      "text/plain": [
       "[0.09516258196404048,\n",
       " 0.04412944161090171,\n",
       " 0.0,\n",
       " 0.23570570814235703,\n",
       " 0.14788835276166634,\n",
       " 0.21263665422121047,\n",
       " 0.13702329140500324,\n",
       " 0.042019018927499485,\n",
       " 0.011900407204264218,\n",
       " 0.0035863220184016997]"
      ]
     },
     "execution_count": 71,
     "metadata": {},
     "output_type": "execute_result"
    }
   ],
   "source": [
    "intervening_opportunity(destinations_in_ring,selectivity)"
   ]
  },
  {
   "cell_type": "code",
   "execution_count": 72,
   "metadata": {
    "collapsed": false
   },
   "outputs": [
    {
     "data": {
      "text/plain": [
       "'\\n    Returns list of the trips fraction which ends up in stated ring. \\n    \\n    :param destinations: list of total destinations in each ring\\n    :param selectivity: model selectivity\\n    :return: list of ended trip fractions\\n    '"
      ]
     },
     "execution_count": 72,
     "metadata": {},
     "output_type": "execute_result"
    }
   ],
   "source": [
    "intervening_opportunity.__doc__"
   ]
  },
  {
   "cell_type": "markdown",
   "metadata": {},
   "source": [
    "Percent of movments that ends util last ring"
   ]
  },
  {
   "cell_type": "code",
   "execution_count": 73,
   "metadata": {
    "collapsed": false
   },
   "outputs": [
    {
     "data": {
      "text/plain": [
       "0.9300517782553447"
      ]
     },
     "execution_count": 73,
     "metadata": {},
     "output_type": "execute_result"
    }
   ],
   "source": [
    "sum(intervening_opportunity(destinations_in_ring,selectivity))"
   ]
  },
  {
   "cell_type": "code",
   "execution_count": 74,
   "metadata": {
    "collapsed": true
   },
   "outputs": [],
   "source": [
    "source_size=200"
   ]
  },
  {
   "cell_type": "markdown",
   "metadata": {},
   "source": [
    "Creating real values model"
   ]
  },
  {
   "cell_type": "markdown",
   "metadata": {
    "collapsed": true
   },
   "source": [
    "## Problem \n",
    "\n",
    "Czytanie (programowe) i przetwarzainie danych z pliku geojson.\n",
    "\n",
    "Geojson jest jak shape ale banalny do czytania (i tworzenia) - ogólnie przetwarzania."
   ]
  },
  {
   "cell_type": "code",
   "execution_count": 2,
   "metadata": {
    "collapsed": false,
    "scrolled": true
   },
   "outputs": [
    {
     "name": "stdout",
     "output_type": "stream",
     "text": [
      "keys in root:  dict_keys(['type', 'crs', 'features'])\n",
      "type:  FeatureCollection\n",
      "crs:  {'type': 'name', 'properties': {'name': 'urn:ogc:def:crs:EPSG::2177'}}\n",
      "features:  <class 'list'>\n",
      "len of items:  130\n",
      " dict_keys(['type', 'properties', 'geometry'])\n",
      "type of feture:  Feature\n",
      "properties in feature:  {'ID': 1605, 'sd_id': 103, 'NAZWA': 'opole', 'LUDNOSC': 1179.0, 'src': 589.5, 'dst': 589.5}\n",
      "geometry in feature:  {'type': 'Point', 'coordinates': [6499728.265625, 5609656.65625]}\n"
     ]
    }
   ],
   "source": [
    "import json\n",
    "\n",
    "# documentatioan for json can be found using google - particulary documentarion:\n",
    "# https://docs.python.org/3/library/json.html\n",
    "\n",
    "with open('dane/opole/sd.geojson') as file:\n",
    "    file_content=json.load(file)\n",
    "    print(\"keys in root: \",file_content.keys())\n",
    "    print(\"type: \",file_content['type'])\n",
    "    print(\"crs: \",file_content['crs'])\n",
    "    print(\"features: \",type(file_content['features']))\n",
    "    print(\"len of items: \", len(file_content['features']))\n",
    "    print(\"\",file_content['features'][30].keys())\n",
    "    print(\"type of feture: \", file_content['features'][30]['type'])\n",
    "    print(\"properties in feature: \", file_content['features'][30]['properties'])\n",
    "    print(\"geometry in feature: \", file_content['features'][30]['geometry'])\n",
    "    \n",
    "    partial_sum=0\n",
    "    for feature in file_content['features']:\n",
    "        print(\"feature value:\",feature['properties']['src'])\n",
    "        partial_sum+=feature['properties']['src']\n",
    "        print(\"partial sum is now: \",partial_sum)\n",
    "    print(\"finally sum is: \",partial_sum)\n",
    "    "
   ]
  },
  {
   "cell_type": "code",
   "execution_count": 58,
   "metadata": {
    "collapsed": false
   },
   "outputs": [
    {
     "name": "stdout",
     "output_type": "stream",
     "text": [
      "keys in root:  dict_keys(['type', 'crs', 'features'])\n",
      "type:  FeatureCollection\n",
      "crs:  {'type': 'name', 'properties': {'name': 'urn:ogc:def:crs:EPSG::2177'}}\n",
      "features:  <class 'list'>\n",
      "len of items:  4372\n",
      " dict_keys(['type', 'properties', 'geometry'])\n",
      "type of feture:  Feature\n",
      "properties in feature:  {'ID': 30.0, 'PREDKOSC': 833.0, 'weight': 128.632, 'throughput': 12000.0}\n",
      "geometry in feature:  {'type': 'LineString', 'coordinates': [[6487472.125, 5616579.21875], [6487472.706618954, 5616578.980167246], [6487734.0938544115, 5616489.586344957], [6487850.6295230705, 5616459.2805809835], [6488720.938349659, 5616303.82927707], [6489076.295717923, 5616246.345876936], [6489219.8088920945, 5616236.069878248], [6489220.4375, 5616236.0625]]}\n",
      "feature geometry: {'type': 'LineString', 'coordinates': [[6487472.125, 5616579.21875], [6487472.706618954, 5616578.980167246], [6487734.0938544115, 5616489.586344957], [6487850.6295230705, 5616459.2805809835], [6488720.938349659, 5616303.82927707], [6489076.295717923, 5616246.345876936], [6489219.8088920945, 5616236.069878248], [6489220.4375, 5616236.0625]]}\n",
      "[6487472.125, 5616579.21875]\n",
      "sub element length:  0.0\n",
      "[6487472.706618954, 5616578.980167246]\n",
      "sub element length:  0.6286512057201934\n",
      "[6487734.0938544115, 5616489.586344957]\n",
      "sub element length:  276.25086845717595\n",
      "[6487850.6295230705, 5616459.2805809835]\n",
      "sub element length:  120.41179925507629\n",
      "[6488720.938349659, 5616303.82927707]\n",
      "sub element length:  884.0828929039842\n",
      "[6489076.295717923, 5616246.345876936]\n",
      "sub element length:  359.9766665643358\n",
      "[6489219.8088920945, 5616236.069878248]\n",
      "sub element length:  143.88060088086365\n",
      "[6489220.4375, 5616236.0625]\n",
      "sub element length:  0.6286512048475893\n"
     ]
    }
   ],
   "source": [
    "import json\n",
    "\n",
    "with open('dane/opole/net.geojson') as file:\n",
    "    file_content=json.load(file)\n",
    "    print(\"keys in root: \",file_content.keys())\n",
    "    print(\"type: \",file_content['type'])\n",
    "    print(\"crs: \",file_content['crs'])\n",
    "    print(\"features: \",type(file_content['features']))\n",
    "    print(\"len of items: \", len(file_content['features']))\n",
    "    print(\"\", file_content['features'][30].keys())\n",
    "    print(\"type of feture: \", file_content['features'][30]['type'])\n",
    "    print(\"properties in feature: \", file_content['features'][30]['properties'])\n",
    "    print(\"geometry in feature: \", file_content['features'][30]['geometry'])\n",
    "    \n",
    "    #for feature in file_content['features']:\n",
    "    feature= file_content['features'][30]\n",
    "    print(\"feature geometry:\",feature['geometry'])\n",
    "    start=complex(\n",
    "        feature['geometry']['coordinates'][0][0],\n",
    "        feature['geometry']['coordinates'][0][1]\n",
    "    )\n",
    "    # You can use unpacking operator * \n",
    "    # following line works like above one\n",
    "    # start=complex(*feature['geometry']['coordinates'][0])\n",
    "\n",
    "    for point in feature['geometry']['coordinates']:\n",
    "        print(point)\n",
    "        end=complex(point[0],point[1])\n",
    "        length=abs(end-start)\n",
    "        print(\"sub element length: \",length)\n",
    "        start=end\n",
    "    \n",
    "    \n",
    "    "
   ]
  },
  {
   "cell_type": "markdown",
   "metadata": {
    "collapsed": true
   },
   "source": [
    "## Problem \n",
    "\n",
    "Pisanie (programowe) do geojson (towrzenie danych geoprzestrennych)\n"
   ]
  },
  {
   "cell_type": "code",
   "execution_count": 2,
   "metadata": {
    "collapsed": false
   },
   "outputs": [],
   "source": [
    "import json\n",
    "\n",
    "with open('dane/square.geojson','w') as file:\n",
    "    tmp_file={\n",
    "        \"type\":\"FeatureCollection\",\n",
    "        \"features\":[]\n",
    "    }\n",
    "    \n",
    "    noof_points=20\n",
    "    for x in range(noof_points):\n",
    "        for y in range(noof_points):\n",
    "            tmp_file[\"features\"].append(\n",
    "                {\n",
    "                    \"type\":\"Feature\",\n",
    "                    \"geometry\":{\n",
    "                        \"type\":\"Point\",\n",
    "                        \"coordinates\":[x,y]\n",
    "                    },\n",
    "                    \"properties\":{\n",
    "                        \"punkt\":x*noof_points+y\n",
    "                    }\n",
    "                }\n",
    "            )\n",
    "    # tmp_file is completly created in this step\n",
    "    # We have to write it to file\n",
    "    json.dump(tmp_file,file,indent=4)\n",
    "    \n"
   ]
  },
  {
   "cell_type": "markdown",
   "metadata": {
    "collapsed": true
   },
   "source": [
    "## Problem \n",
    "\n",
    "Czytanie (programowe) i przetwarzainie danych z pliku Shapefile.\n",
    "\n",
    "Shapefile jest trudnym do czytania formatem. Biblioteka pyshp ma brzydką dokumentację."
   ]
  },
  {
   "cell_type": "code",
   "execution_count": 32,
   "metadata": {
    "collapsed": false
   },
   "outputs": [
    {
     "name": "stdout",
     "output_type": "stream",
     "text": [
      "3\n",
      "[(293887.43629941996, 5408115.288671166), (280616.1770611042, 5407389.0264478475), (277727.17985008936, 5405448.563930742), (276250.7379113909, 5400546.885804094), (271902.78041105694, 5395663.937859982), (263279.4284984198, 5394747.931074947), (257513.32395357089, 5391838.770969383), (254612.11671336857, 5387920.2587203905), (254567.6270140434, 5382004.65926148), (250217.7331421543, 5376114.8661246225), (245876.4787365414, 5371206.691480368), (241508.18639784268, 5362335.168175563), (237169.8562180788, 5357413.658082761), (225648.9216425304, 5350552.090426713), (219893.41704126145, 5347612.9438228905), (216993.72785338952, 5342666.43053364), (219828.81385880086, 5337678.520474747), (219796.46989008834, 5332704.792158112), (214019.2049441863, 5325771.070861794), (218279.51375970573, 5319762.083690293), (229715.46788062307, 5311130.229108334)]\n",
      "[(239127.97106535474, 5321858.113062553), (239805.79439061397, 5324601.38956397), (248425.36939797705, 5327528.186417922), (252739.44017114493, 5329488.043373898), (265645.52846215863, 5330384.72836595), (278544.1325791006, 5330280.883741535), (290052.21807865956, 5335159.831421889), (297254.0973342103, 5339074.748792276), (300156.4779314089, 5343023.809490956), (301545.874665702, 5338042.6274665), (308713.39362691616, 5337977.9317377135), (311626.19161291537, 5342920.037921853), (315936.60537520226, 5343873.279618606), (324539.10953885614, 5343791.800721712), (335989.3405135082, 5341693.276483439)]\n",
      "[('DeletionFlag', 'C', 1, 0), ['OBJECTID', 'N', 9, 0], ['SHAPE_LENG', 'N', 19, 11], ['TYPE', 'N', 4, 0], ['SPEED_0', 'N', 6, 0], ['ID', 'N', 4, 0]]\n",
      "[6, 92932.9840254, 1, 5000, 4]\n",
      "899\n",
      "899\n"
     ]
    }
   ],
   "source": [
    "import shapefile\n",
    "\n",
    "sf=shapefile.Reader('dane/azja/drogiazja_koor1')\n",
    "\n",
    "print(sf.shapes()[2].shapeType)\n",
    "print(sf.shapes()[2].points)\n",
    "print(sf.shape(3).points)\n",
    "print(sf.fields)\n",
    "print(sf.record(4))\n",
    "print(len(sf.records()))\n",
    "print(len(sf.shapes()))\n"
   ]
  },
  {
   "cell_type": "code",
   "execution_count": null,
   "metadata": {
    "collapsed": false
   },
   "outputs": [],
   "source": [
    "\n",
    "\n"
   ]
  },
  {
   "cell_type": "markdown",
   "metadata": {
    "collapsed": true
   },
   "source": [
    "### Problem czekania na taksówkę\n",
    "\n",
    "Dwóch graczy jeden wybiera orła drugi reszkę. [reszka orzeł] jak [-1,1] sumujemy wyniki, i jeden gracz \"gra na ujemne\" drugi \"gra na dodatnie\". Zliczamy czas przewagi jednego i czas przewagi drugiego. Zerowa przewaga zaliczana jest temu kto miał wcześniej/poprzednio przewagę.\n"
   ]
  },
  {
   "cell_type": "code",
   "execution_count": 15,
   "metadata": {
    "collapsed": false
   },
   "outputs": [
    {
     "data": {
      "text/plain": [
       "[46, 954]"
      ]
     },
     "execution_count": 15,
     "metadata": {},
     "output_type": "execute_result"
    }
   ],
   "source": [
    "from random import randint,choice\n",
    "from itertools import accumulate\n",
    "\n",
    "def dlugosc_przewagi(czas_gry):\n",
    "    zegar_gry=0\n",
    "    czas_przewagi_pierwszego=0\n",
    "    czas_przewagi_drugiego=0\n",
    "    biezaca_przewaga=0\n",
    "    znak_przewagi=0\n",
    "\n",
    "    for zegar_gry in range(czas_gry):\n",
    "        wylosowane=choice([-1,1])\n",
    "        \n",
    "        biezaca_przewaga+=wylosowane\n",
    "\n",
    "        if biezaca_przewaga>0:\n",
    "            czas_przewagi_pierwszego+=1\n",
    "            znak_przewagi=1\n",
    "        elif biezaca_przewaga<0:\n",
    "            czas_przewagi_drugiego+=1\n",
    "            znak_przewagi=-1\n",
    "        elif biezaca_przewaga==0 and znak_przewagi==1:\n",
    "            czas_przewagi_pierwszego+=1\n",
    "        elif biezaca_przewaga==0 and znak_przewagi==-1:\n",
    "            czas_przewagi_drugiego+=1\n",
    "            \n",
    "    \n",
    "    return [czas_przewagi_pierwszego,czas_przewagi_drugiego]\n",
    "\n",
    "dlugosc_przewagi(1000)\n"
   ]
  },
  {
   "cell_type": "markdown",
   "metadata": {
    "collapsed": true
   },
   "source": [
    "### Czytanie i pisanie danych\n",
    "\n",
    "Często w toku przetwarzania dużych programów potrzeba przechowywać stan programu lub zapisywać dane.\n",
    "\n",
    "Jeśli plik jest określonego typu - shp,geojson,csv itp... - najlepiej użyć odpowiedniej biblioteki.\n",
    "Jeśli chcemy przechować duże ilości danych to odpowiednim do tego celu są bazy danych.\n",
    "\n",
    "Bazy danych posługują się do zapisu i odzyskiwania językiem SQL (to nie język programowania)\n",
    "Jezyk formalny przypominający składnią nzturalny język ludzki. Jeden z najprostszych sposobów \"mówienia komputerowi co ma zrobić\"\n",
    "\n",
    "Bazy danych są właściwym zastępstwenm dla bezpośredniego (często wtorzonego ad hoc) modelu przechowywania danych w plikach! (dlaczego?do zastanowienia)\n",
    "\n",
    "Silników baz danych (postgres,sqlite,mysql,oracle db, db2 ibma itd) jest wiele i różnią się od siebie dość znacznie.\n",
    "Jednym z najprostrzych jest sqlite"
   ]
  },
  {
   "cell_type": "code",
   "execution_count": 38,
   "metadata": {
    "collapsed": false
   },
   "outputs": [
    {
     "name": "stdout",
     "output_type": "stream",
     "text": [
      "('2006-01-05', 'BUY', 'RHAT', 100.0, 35.14)\n"
     ]
    }
   ],
   "source": [
    "import sqlite3\n",
    "# Zapis bazy w pliku \n",
    "#conn = sqlite3.connect('example.db')\n",
    "#Zapis bazy tymczasowy w pamięci\n",
    "conn = sqlite3.connect(':memory:')\n",
    "conn.execute('''CREATE TABLE stocks\n",
    "             (date text, trans text, symbol text, qty real, price real)''')\n",
    "conn.execute(\"INSERT INTO stocks VALUES ('2006-01-05','BUY','RHAT',100,35.14)\")\n",
    "\n",
    "t = ('RHAT',)\n",
    "c=conn.execute('SELECT * FROM stocks WHERE symbol=?', t)\n",
    "print(c.fetchone())\n",
    "\n",
    "# Larger example that inserts many records at a time\n",
    "purchases = [('2006-03-28', 'BUY', 'IBM', 1000, 45.00),\n",
    "             ('2006-04-05', 'BUY', 'MSFT', 1000, 72.00),\n",
    "             ('2006-04-06', 'SELL', 'IBM', 500, 53.00),\n",
    "            ]\n",
    "c=conn.executemany('INSERT INTO stocks VALUES (?,?,?,?,?)', purchases)\n",
    "    \n",
    "\n"
   ]
  },
  {
   "cell_type": "code",
   "execution_count": 11,
   "metadata": {
    "collapsed": false
   },
   "outputs": [
    {
     "name": "stdout",
     "output_type": "stream",
     "text": [
      "alamakota\n",
      "olamakota\n",
      "\n"
     ]
    }
   ],
   "source": [
    "file=open(\"kotek.txt\",'r'):\n",
    "print(file.read())\n",
    "#print(\"olamakota\",file=file)"
   ]
  },
  {
   "cell_type": "code",
   "execution_count": null,
   "metadata": {
    "collapsed": true
   },
   "outputs": [],
   "source": []
  }
 ],
 "metadata": {
  "kernelspec": {
   "display_name": "Python 3",
   "language": "python",
   "name": "python3"
  },
  "language_info": {
   "codemirror_mode": {
    "name": "ipython",
    "version": 3
   },
   "file_extension": ".py",
   "mimetype": "text/x-python",
   "name": "python",
   "nbconvert_exporter": "python",
   "pygments_lexer": "ipython3",
   "version": "3.6.0"
  }
 },
 "nbformat": 4,
 "nbformat_minor": 0
}
