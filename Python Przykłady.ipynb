{
 "cells": [
  {
   "cell_type": "code",
   "execution_count": 36,
   "metadata": {
    "collapsed": true
   },
   "outputs": [],
   "source": [
    "def moja_prosta(x):\n",
    "    return 3*x-7"
   ]
  },
  {
   "cell_type": "code",
   "execution_count": 37,
   "metadata": {
    "collapsed": false
   },
   "outputs": [
    {
     "data": {
      "text/plain": [
       "5"
      ]
     },
     "execution_count": 37,
     "metadata": {},
     "output_type": "execute_result"
    }
   ],
   "source": [
    "moja_prosta(4)"
   ]
  },
  {
   "cell_type": "markdown",
   "metadata": {},
   "source": [
    "##  bmi\n",
    "body mass index\n",
    "\n",
    "bmi to iloraz wagi i wzrostu podniesionego do kwadratu\n",
    "\n",
    "$$\\large{bmi = {waga \\over wzrost ^2}}$$\n",
    "\n"
   ]
  },
  {
   "cell_type": "code",
   "execution_count": 27,
   "metadata": {
    "collapsed": true
   },
   "outputs": [],
   "source": [
    "def bmi(weight,height):\n",
    "    bmi=weight/height**2\n",
    "    return bmi"
   ]
  },
  {
   "cell_type": "code",
   "execution_count": 28,
   "metadata": {
    "collapsed": false
   },
   "outputs": [
    {
     "data": {
      "text/plain": [
       "24.151672503320853"
      ]
     },
     "execution_count": 28,
     "metadata": {},
     "output_type": "execute_result"
    }
   ],
   "source": [
    "bmi(80,1.82)"
   ]
  },
  {
   "cell_type": "markdown",
   "metadata": {},
   "source": [
    "## Bmi advice\n",
    "\n",
    "porada słowna zwiazana z wagą i BMI\n",
    "\n",
    "- <18.5 Niedowaga\n",
    "- \\>18.5 <25 OK\n",
    "- \\>25 <30 Nadwaga\n",
    "- \\>30 Otyłość"
   ]
  },
  {
   "cell_type": "code",
   "execution_count": 31,
   "metadata": {
    "collapsed": true
   },
   "outputs": [],
   "source": [
    "def bmi_advice(weight,height):\n",
    "    my_bmi=bmi(weight,height)\n",
    "    if my_bmi<18.5:\n",
    "        print(\"Niedowaga\")\n",
    "    elif my_bmi>18.5 and my_bmi<25:\n",
    "        print(\"Waga prawidłowa\")\n",
    "    elif my_bmi>25 and my_bmi<30:\n",
    "        print(\"Nadwaga\")\n",
    "    else:\n",
    "        print(\"Otyłość\")"
   ]
  },
  {
   "cell_type": "code",
   "execution_count": 32,
   "metadata": {
    "collapsed": false
   },
   "outputs": [
    {
     "name": "stdout",
     "output_type": "stream",
     "text": [
      "Waga prawidłowa\n"
     ]
    }
   ],
   "source": [
    "bmi_advice(80,1.82)"
   ]
  },
  {
   "cell_type": "markdown",
   "metadata": {},
   "source": [
    "## Entropia Shanona\n",
    "\n",
    "entropia https://pl.wikipedia.org/wiki/Entropia_(teoria_informacji)\n",
    "\n",
    "Można ja obliczyć podając wartości prawdopodobieństw zdarzeń losowych pewnej zmiennej losowej X\n",
    "\n",
    "Obliczamy ją ze wzoru $$\\large{-\\sum_i p_i log_r(p_i)}$$\n"
   ]
  },
  {
   "cell_type": "code",
   "execution_count": null,
   "metadata": {
    "collapsed": true
   },
   "outputs": [],
   "source": [
    "# to do\n",
    "# HOMEWORK"
   ]
  },
  {
   "cell_type": "markdown",
   "metadata": {},
   "source": [
    "## Model pośrednich możliwości\n",
    "\n",
    "Problem obliczenia frakcji zakończonych podrózy  w pierścieniu odległości\n",
    "\n",
    "Zmamy ilość celów $D_r$ w każdym pierścieniu $r$ i selektywność $\\lambda$\n",
    "\n",
    "Frakcja zakończonych podrózy w pierścieniu $R$ jest zadana wzorem:\n",
    "\n",
    "$$\\huge{(1-e^{(-\\lambda\\sum_{r=0}^R D_r)}) - (1-e^{(-\\lambda\\sum_{r=0}^{R-1}D_r)}) }$$"
   ]
  },
  {
   "cell_type": "code",
   "execution_count": 78,
   "metadata": {
    "collapsed": true
   },
   "outputs": [],
   "source": [
    "destinations_in_ring=[100,50,0,320,270,590,730,400,150,50]\n",
    "selectivity=0.001"
   ]
  },
  {
   "cell_type": "markdown",
   "metadata": {},
   "source": [
    "Przykładowe dane wejściowe i funkcja licząca"
   ]
  },
  {
   "cell_type": "code",
   "execution_count": 84,
   "metadata": {
    "collapsed": true
   },
   "outputs": [],
   "source": [
    "def intervening_opportunity(destinations,selectivity):\n",
    "    \"\"\"\n",
    "    Returns list of the trips fraction which ends up in stated ring. \n",
    "    \n",
    "    :param destinations: list of destinations in each ring\n",
    "    :param selectivity: model selectivity\n",
    "    :return: list of fractions\n",
    "    \"\"\"\n",
    "    # We will gather fraction for output\n",
    "    fractions=[]\n",
    "    from math import exp\n",
    "    from itertools import accumulate\n",
    "    # in each step we have to remember value of function in  previous step\n",
    "    pre_ring=0\n",
    "    for partial_sum in accumulate(destinations):\n",
    "        post_ring=1-exp(-selectivity*partial_sum)\n",
    "        fractions.append(post_ring-pre_ring)\n",
    "        pre_ring=post_ring\n",
    "    \n",
    "    return fractions"
   ]
  },
  {
   "cell_type": "code",
   "execution_count": 85,
   "metadata": {
    "collapsed": false
   },
   "outputs": [
    {
     "data": {
      "text/plain": [
       "[0.09516258196404048,\n",
       " 0.04412944161090171,\n",
       " 0.0,\n",
       " 0.23570570814235703,\n",
       " 0.14788835276166634,\n",
       " 0.21263665422121047,\n",
       " 0.13702329140500324,\n",
       " 0.042019018927499485,\n",
       " 0.011900407204264107,\n",
       " 0.0035863220184018108]"
      ]
     },
     "execution_count": 85,
     "metadata": {},
     "output_type": "execute_result"
    }
   ],
   "source": [
    "intervening_opportunity(destinations_in_ring,selectivity)"
   ]
  },
  {
   "cell_type": "code",
   "execution_count": 81,
   "metadata": {
    "collapsed": false
   },
   "outputs": [
    {
     "data": {
      "text/plain": [
       "0.9300517782553447"
      ]
     },
     "execution_count": 81,
     "metadata": {},
     "output_type": "execute_result"
    }
   ],
   "source": [
    "sum(intervening_opportunity(destinations_in_ring,selectivity))"
   ]
  },
  {
   "cell_type": "code",
   "execution_count": 86,
   "metadata": {
    "collapsed": false
   },
   "outputs": [],
   "source": [
    "# maybe later\n",
    "#import math\n",
    "#dir(math)\n",
    "#help(math.exp)\n",
    "#help(intervening_opportunity)"
   ]
  },
  {
   "cell_type": "code",
   "execution_count": null,
   "metadata": {
    "collapsed": true
   },
   "outputs": [],
   "source": []
  }
 ],
 "metadata": {
  "kernelspec": {
   "display_name": "Python 3",
   "language": "python",
   "name": "python3"
  },
  "language_info": {
   "codemirror_mode": {
    "name": "ipython",
    "version": 3
   },
   "file_extension": ".py",
   "mimetype": "text/x-python",
   "name": "python",
   "nbconvert_exporter": "python",
   "pygments_lexer": "ipython3",
   "version": "3.5.2"
  }
 },
 "nbformat": 4,
 "nbformat_minor": 0
}
