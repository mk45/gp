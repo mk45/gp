{
 "cells": [
  {
   "cell_type": "code",
   "execution_count": 61,
   "metadata": {
    "collapsed": false
   },
   "outputs": [],
   "source": [
    "def moja_prosta(x):\n",
    "    return 3*x-7"
   ]
  },
  {
   "cell_type": "code",
   "execution_count": 62,
   "metadata": {
    "collapsed": false
   },
   "outputs": [
    {
     "data": {
      "text/plain": [
       "-4"
      ]
     },
     "execution_count": 62,
     "metadata": {},
     "output_type": "execute_result"
    }
   ],
   "source": [
    "moja_prosta(1)"
   ]
  },
  {
   "cell_type": "markdown",
   "metadata": {},
   "source": [
    "##  bmi\n",
    "body mass index\n",
    "\n",
    "bmi to iloraz wagi i wzrostu podniesionego do kwadratu\n",
    "\n",
    "$$\\large{bmi = {waga \\over wzrost ^2}}$$\n",
    "\n"
   ]
  },
  {
   "cell_type": "code",
   "execution_count": 63,
   "metadata": {
    "collapsed": true
   },
   "outputs": [],
   "source": [
    "def bmi(weight,height):\n",
    "    bmi=weight/height**2\n",
    "    return bmi"
   ]
  },
  {
   "cell_type": "code",
   "execution_count": 64,
   "metadata": {
    "collapsed": false
   },
   "outputs": [
    {
     "data": {
      "text/plain": [
       "15.094795314575533"
      ]
     },
     "execution_count": 64,
     "metadata": {},
     "output_type": "execute_result"
    }
   ],
   "source": [
    "bmi(height=1.82,weight=50)"
   ]
  },
  {
   "cell_type": "markdown",
   "metadata": {},
   "source": [
    "## Bmi advice\n",
    "\n",
    "porada słowna zwiazana z wagą i BMI\n",
    "\n",
    "- <18.5 Niedowaga\n",
    "- \\>18.5 <25 OK\n",
    "- \\>25 <30 Nadwaga\n",
    "- \\>30 Otyłość"
   ]
  },
  {
   "cell_type": "code",
   "execution_count": 65,
   "metadata": {
    "collapsed": true
   },
   "outputs": [],
   "source": [
    "def bmi_advice(weight,height):\n",
    "    my_bmi=bmi(weight,height)\n",
    "    if my_bmi<18.5:\n",
    "        print(\"Niedowaga\")\n",
    "        print(\"Ojojoj chudo\")\n",
    "    elif my_bmi>=18.5 and my_bmi<25:\n",
    "        print(\"Waga prawidłowa\")\n",
    "        print(\"OK\")\n",
    "    elif my_bmi>=25 and my_bmi<30:\n",
    "        print(\"Nadwaga\")\n",
    "        print(\"No trochę zrzuć\")\n",
    "    else:\n",
    "        print(\"Otyłość\")\n",
    "        print(\"No zadbaj o siebie!\")"
   ]
  },
  {
   "cell_type": "code",
   "execution_count": 66,
   "metadata": {
    "collapsed": false
   },
   "outputs": [
    {
     "name": "stdout",
     "output_type": "stream",
     "text": [
      "Otyłość\n",
      "No zadbaj o siebie!\n"
     ]
    }
   ],
   "source": [
    "bmi_advice(195,1.82)"
   ]
  },
  {
   "cell_type": "markdown",
   "metadata": {},
   "source": [
    "## Entropia Shannona\n",
    "\n",
    "entropia https://pl.wikipedia.org/wiki/Entropia_(teoria_informacji)\n",
    "\n",
    "Można ja obliczyć podając wartości prawdopodobieństw zdarzeń losowych pewnej zmiennej losowej X\n",
    "\n",
    "Obliczamy ją ze wzoru $$\\large{-\\sum_i p_i log_r(p_i)}$$\n"
   ]
  },
  {
   "cell_type": "code",
   "execution_count": 67,
   "metadata": {
    "collapsed": true
   },
   "outputs": [],
   "source": [
    "# to do\n",
    "# may do it as a HOMEWORK"
   ]
  },
  {
   "cell_type": "markdown",
   "metadata": {},
   "source": [
    "## Model pośrednich możliwości\n",
    "\n",
    "Problem obliczenia frakcji zakończonych podrózy  w pierścieniu odległości\n",
    "\n",
    "Zmamy ilość celów $D_r$ w każdym pierścieniu $r$ i selektywność $\\lambda$\n",
    "\n",
    "Frakcja zakończonych podrózy w pierścieniu $R$ jest zadana wzorem:\n",
    "\n",
    "$$\\huge{(1-e^{(-\\lambda\\sum_{r=0}^R D_r)}) - (1-e^{(-\\lambda\\sum_{r=0}^{R-1}D_r)}) }$$"
   ]
  },
  {
   "cell_type": "markdown",
   "metadata": {},
   "source": [
    "Przykładowe dane wejściowe"
   ]
  },
  {
   "cell_type": "code",
   "execution_count": 68,
   "metadata": {
    "collapsed": true
   },
   "outputs": [],
   "source": [
    "destinations_in_ring=[1000,500,0,3200,2700,5900,7300,4000,1500,500]\n",
    "selectivity=0.0001"
   ]
  },
  {
   "cell_type": "markdown",
   "metadata": {},
   "source": [
    "wstępne analizy"
   ]
  },
  {
   "cell_type": "code",
   "execution_count": 69,
   "metadata": {
    "collapsed": false
   },
   "outputs": [
    {
     "data": {
      "text/plain": [
       "26600"
      ]
     },
     "execution_count": 69,
     "metadata": {},
     "output_type": "execute_result"
    }
   ],
   "source": [
    "sum(destinations_in_ring)"
   ]
  },
  {
   "cell_type": "code",
   "execution_count": 70,
   "metadata": {
    "collapsed": true
   },
   "outputs": [],
   "source": [
    "def intervening_opportunity(destinations,selectivity):\n",
    "    \"\"\"\n",
    "    Returns list of the trips fraction which ends up in stated ring. \n",
    "    \n",
    "    :param destinations: list of total destinations in each ring\n",
    "    :param selectivity: model selectivity\n",
    "    :return: list of ended trip fractions\n",
    "    \"\"\"\n",
    "    # We will gather fraction for output\n",
    "    fractions=[]\n",
    "    from math import exp\n",
    "    from itertools import accumulate\n",
    "    # in each step we have to remember value of function in  previous step\n",
    "    pre_ring=0\n",
    "    for partial_sum in accumulate(destinations):\n",
    "        post_ring=1-exp(-selectivity*partial_sum)\n",
    "        fractions.append(post_ring-pre_ring)\n",
    "        pre_ring=post_ring\n",
    "    \n",
    "    return fractions"
   ]
  },
  {
   "cell_type": "code",
   "execution_count": 71,
   "metadata": {
    "collapsed": false
   },
   "outputs": [
    {
     "data": {
      "text/plain": [
       "[0.09516258196404048,\n",
       " 0.04412944161090171,\n",
       " 0.0,\n",
       " 0.23570570814235703,\n",
       " 0.14788835276166634,\n",
       " 0.21263665422121047,\n",
       " 0.13702329140500324,\n",
       " 0.042019018927499485,\n",
       " 0.011900407204264218,\n",
       " 0.0035863220184016997]"
      ]
     },
     "execution_count": 71,
     "metadata": {},
     "output_type": "execute_result"
    }
   ],
   "source": [
    "intervening_opportunity(destinations_in_ring,selectivity)"
   ]
  },
  {
   "cell_type": "code",
   "execution_count": 72,
   "metadata": {
    "collapsed": false
   },
   "outputs": [
    {
     "data": {
      "text/plain": [
       "'\\n    Returns list of the trips fraction which ends up in stated ring. \\n    \\n    :param destinations: list of total destinations in each ring\\n    :param selectivity: model selectivity\\n    :return: list of ended trip fractions\\n    '"
      ]
     },
     "execution_count": 72,
     "metadata": {},
     "output_type": "execute_result"
    }
   ],
   "source": [
    "intervening_opportunity.__doc__"
   ]
  },
  {
   "cell_type": "markdown",
   "metadata": {},
   "source": [
    "Percent of movments that ends util last ring"
   ]
  },
  {
   "cell_type": "code",
   "execution_count": 73,
   "metadata": {
    "collapsed": false
   },
   "outputs": [
    {
     "data": {
      "text/plain": [
       "0.9300517782553447"
      ]
     },
     "execution_count": 73,
     "metadata": {},
     "output_type": "execute_result"
    }
   ],
   "source": [
    "sum(intervening_opportunity(destinations_in_ring,selectivity))"
   ]
  },
  {
   "cell_type": "code",
   "execution_count": 74,
   "metadata": {
    "collapsed": true
   },
   "outputs": [],
   "source": [
    "source_size=200"
   ]
  },
  {
   "cell_type": "markdown",
   "metadata": {},
   "source": [
    "Creating real values model"
   ]
  },
  {
   "cell_type": "markdown",
   "metadata": {
    "collapsed": true
   },
   "source": [
    "##### Problem \n",
    "\n",
    "Czytanie (programowe) i przetwarzainie danych z pliku geojson.\n",
    "\n",
    "Geojson jest jak shape ale banalny do czytania (i tworzenia) - ogólnie przetwarzania."
   ]
  },
  {
   "cell_type": "code",
   "execution_count": 75,
   "metadata": {
    "collapsed": true
   },
   "outputs": [],
   "source": [
    "import json\n",
    "\n",
    "\n"
   ]
  },
  {
   "cell_type": "code",
   "execution_count": 76,
   "metadata": {
    "collapsed": false
   },
   "outputs": [],
   "source": [
    "# maybe later\n",
    "#import math\n",
    "#dir(math)\n",
    "#help(math.exp)\n",
    "#help(intervening_opportunity)"
   ]
  },
  {
   "cell_type": "code",
   "execution_count": null,
   "metadata": {
    "collapsed": true
   },
   "outputs": [],
   "source": []
  }
 ],
 "metadata": {
  "kernelspec": {
   "display_name": "Python 3",
   "language": "python",
   "name": "python3"
  },
  "language_info": {
   "codemirror_mode": {
    "name": "ipython",
    "version": 3
   },
   "file_extension": ".py",
   "mimetype": "text/x-python",
   "name": "python",
   "nbconvert_exporter": "python",
   "pygments_lexer": "ipython3",
   "version": "3.5.2"
  }
 },
 "nbformat": 4,
 "nbformat_minor": 0
}
