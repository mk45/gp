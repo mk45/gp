{
 "cells": [
  {
   "cell_type": "code",
   "execution_count": 61,
   "metadata": {
    "collapsed": false
   },
   "outputs": [],
   "source": [
    "def moja_prosta(x):\n",
    "    return 3*x-7"
   ]
  },
  {
   "cell_type": "code",
   "execution_count": 62,
   "metadata": {
    "collapsed": false
   },
   "outputs": [
    {
     "data": {
      "text/plain": [
       "-4"
      ]
     },
     "execution_count": 62,
     "metadata": {},
     "output_type": "execute_result"
    }
   ],
   "source": [
    "moja_prosta(1)"
   ]
  },
  {
   "cell_type": "markdown",
   "metadata": {},
   "source": [
    "##  bmi\n",
    "body mass index\n",
    "\n",
    "bmi to iloraz wagi i wzrostu podniesionego do kwadratu\n",
    "\n",
    "$$\\large{bmi = {waga \\over wzrost ^2}}$$\n",
    "\n"
   ]
  },
  {
   "cell_type": "code",
   "execution_count": 63,
   "metadata": {
    "collapsed": true
   },
   "outputs": [],
   "source": [
    "def bmi(weight,height):\n",
    "    bmi=weight/height**2\n",
    "    return bmi"
   ]
  },
  {
   "cell_type": "code",
   "execution_count": 64,
   "metadata": {
    "collapsed": false
   },
   "outputs": [
    {
     "data": {
      "text/plain": [
       "15.094795314575533"
      ]
     },
     "execution_count": 64,
     "metadata": {},
     "output_type": "execute_result"
    }
   ],
   "source": [
    "bmi(height=1.82,weight=50)"
   ]
  },
  {
   "cell_type": "markdown",
   "metadata": {},
   "source": [
    "## Bmi advice\n",
    "\n",
    "porada słowna zwiazana z wagą i BMI\n",
    "\n",
    "- <18.5 Niedowaga\n",
    "- \\>18.5 <25 OK\n",
    "- \\>25 <30 Nadwaga\n",
    "- \\>30 Otyłość"
   ]
  },
  {
   "cell_type": "code",
   "execution_count": 65,
   "metadata": {
    "collapsed": true
   },
   "outputs": [],
   "source": [
    "def bmi_advice(weight,height):\n",
    "    my_bmi=bmi(weight,height)\n",
    "    if my_bmi<18.5:\n",
    "        print(\"Niedowaga\")\n",
    "        print(\"Ojojoj chudo\")\n",
    "    elif my_bmi>=18.5 and my_bmi<25:\n",
    "        print(\"Waga prawidłowa\")\n",
    "        print(\"OK\")\n",
    "    elif my_bmi>=25 and my_bmi<30:\n",
    "        print(\"Nadwaga\")\n",
    "        print(\"No trochę zrzuć\")\n",
    "    else:\n",
    "        print(\"Otyłość\")\n",
    "        print(\"No zadbaj o siebie!\")"
   ]
  },
  {
   "cell_type": "code",
   "execution_count": 66,
   "metadata": {
    "collapsed": false
   },
   "outputs": [
    {
     "name": "stdout",
     "output_type": "stream",
     "text": [
      "Otyłość\n",
      "No zadbaj o siebie!\n"
     ]
    }
   ],
   "source": [
    "bmi_advice(195,1.82)"
   ]
  },
  {
   "cell_type": "markdown",
   "metadata": {},
   "source": [
    "## Entropia Shannona\n",
    "\n",
    "entropia https://pl.wikipedia.org/wiki/Entropia_(teoria_informacji)\n",
    "\n",
    "Można ja obliczyć podając wartości prawdopodobieństw zdarzeń losowych pewnej zmiennej losowej X\n",
    "\n",
    "Obliczamy ją ze wzoru $$\\large{-\\sum_i p_i log_r(p_i)}$$\n"
   ]
  },
  {
   "cell_type": "code",
   "execution_count": 67,
   "metadata": {
    "collapsed": true
   },
   "outputs": [],
   "source": [
    "# to do\n",
    "# may do it as a HOMEWORK"
   ]
  },
  {
   "cell_type": "markdown",
   "metadata": {},
   "source": [
    "## Model pośrednich możliwości\n",
    "\n",
    "Problem obliczenia frakcji zakończonych podrózy  w pierścieniu odległości\n",
    "\n",
    "Zmamy ilość celów $D_r$ w każdym pierścieniu $r$ i selektywność $\\lambda$\n",
    "\n",
    "Frakcja zakończonych podrózy w pierścieniu $R$ jest zadana wzorem:\n",
    "\n",
    "$$\\huge{(1-e^{(-\\lambda\\sum_{r=0}^R D_r)}) - (1-e^{(-\\lambda\\sum_{r=0}^{R-1}D_r)}) }$$"
   ]
  },
  {
   "cell_type": "markdown",
   "metadata": {},
   "source": [
    "Przykładowe dane wejściowe"
   ]
  },
  {
   "cell_type": "code",
   "execution_count": 68,
   "metadata": {
    "collapsed": true
   },
   "outputs": [],
   "source": [
    "destinations_in_ring=[1000,500,0,3200,2700,5900,7300,4000,1500,500]\n",
    "selectivity=0.0001"
   ]
  },
  {
   "cell_type": "markdown",
   "metadata": {},
   "source": [
    "wstępne analizy"
   ]
  },
  {
   "cell_type": "code",
   "execution_count": 69,
   "metadata": {
    "collapsed": false
   },
   "outputs": [
    {
     "data": {
      "text/plain": [
       "26600"
      ]
     },
     "execution_count": 69,
     "metadata": {},
     "output_type": "execute_result"
    }
   ],
   "source": [
    "sum(destinations_in_ring)"
   ]
  },
  {
   "cell_type": "code",
   "execution_count": 70,
   "metadata": {
    "collapsed": true
   },
   "outputs": [],
   "source": [
    "def intervening_opportunity(destinations,selectivity):\n",
    "    \"\"\"\n",
    "    Returns list of the trips fraction which ends up in stated ring. \n",
    "    \n",
    "    :param destinations: list of total destinations in each ring\n",
    "    :param selectivity: model selectivity\n",
    "    :return: list of ended trip fractions\n",
    "    \"\"\"\n",
    "    # We will gather fraction for output\n",
    "    fractions=[]\n",
    "    from math import exp\n",
    "    from itertools import accumulate\n",
    "    # in each step we have to remember value of function in  previous step\n",
    "    pre_ring=0\n",
    "    for partial_sum in accumulate(destinations):\n",
    "        post_ring=1-exp(-selectivity*partial_sum)\n",
    "        fractions.append(post_ring-pre_ring)\n",
    "        pre_ring=post_ring\n",
    "    \n",
    "    return fractions"
   ]
  },
  {
   "cell_type": "code",
   "execution_count": 71,
   "metadata": {
    "collapsed": false
   },
   "outputs": [
    {
     "data": {
      "text/plain": [
       "[0.09516258196404048,\n",
       " 0.04412944161090171,\n",
       " 0.0,\n",
       " 0.23570570814235703,\n",
       " 0.14788835276166634,\n",
       " 0.21263665422121047,\n",
       " 0.13702329140500324,\n",
       " 0.042019018927499485,\n",
       " 0.011900407204264218,\n",
       " 0.0035863220184016997]"
      ]
     },
     "execution_count": 71,
     "metadata": {},
     "output_type": "execute_result"
    }
   ],
   "source": [
    "intervening_opportunity(destinations_in_ring,selectivity)"
   ]
  },
  {
   "cell_type": "code",
   "execution_count": 72,
   "metadata": {
    "collapsed": false
   },
   "outputs": [
    {
     "data": {
      "text/plain": [
       "'\\n    Returns list of the trips fraction which ends up in stated ring. \\n    \\n    :param destinations: list of total destinations in each ring\\n    :param selectivity: model selectivity\\n    :return: list of ended trip fractions\\n    '"
      ]
     },
     "execution_count": 72,
     "metadata": {},
     "output_type": "execute_result"
    }
   ],
   "source": [
    "intervening_opportunity.__doc__"
   ]
  },
  {
   "cell_type": "markdown",
   "metadata": {},
   "source": [
    "Percent of movments that ends util last ring"
   ]
  },
  {
   "cell_type": "code",
   "execution_count": 73,
   "metadata": {
    "collapsed": false
   },
   "outputs": [
    {
     "data": {
      "text/plain": [
       "0.9300517782553447"
      ]
     },
     "execution_count": 73,
     "metadata": {},
     "output_type": "execute_result"
    }
   ],
   "source": [
    "sum(intervening_opportunity(destinations_in_ring,selectivity))"
   ]
  },
  {
   "cell_type": "code",
   "execution_count": 74,
   "metadata": {
    "collapsed": true
   },
   "outputs": [],
   "source": [
    "source_size=200"
   ]
  },
  {
   "cell_type": "markdown",
   "metadata": {},
   "source": [
    "Creating real values model"
   ]
  },
  {
   "cell_type": "markdown",
   "metadata": {
    "collapsed": true
   },
   "source": [
    "## Problem \n",
    "\n",
    "Czytanie (programowe) i przetwarzainie danych z pliku geojson.\n",
    "\n",
    "Geojson jest jak shape ale banalny do czytania (i tworzenia) - ogólnie przetwarzania."
   ]
  },
  {
   "cell_type": "code",
   "execution_count": 36,
   "metadata": {
    "collapsed": false
   },
   "outputs": [
    {
     "name": "stdout",
     "output_type": "stream",
     "text": [
      "keys in root:  dict_keys(['type', 'crs', 'features'])\n",
      "type:  FeatureCollection\n",
      "crs:  {'type': 'name', 'properties': {'name': 'urn:ogc:def:crs:EPSG::2177'}}\n",
      "features:  <class 'list'>\n",
      "len of items:  130\n",
      " dict_keys(['type', 'properties', 'geometry'])\n",
      "type of feture:  Feature\n",
      "properties in feature:  {'ID': 1605, 'sd_id': 103, 'NAZWA': 'opole', 'LUDNOSC': 1179.0, 'src': 589.5, 'dst': 589.5}\n",
      "geometry in feature:  {'type': 'Point', 'coordinates': [6499728.265625, 5609656.65625]}\n",
      "56.0\n",
      "56.0\n",
      "559.0\n",
      "615.0\n",
      "1040.0\n",
      "1655.0\n",
      "1599.0\n",
      "3254.0\n",
      "156.5\n",
      "3410.5\n",
      "975.5\n",
      "4386.0\n",
      "371.0\n",
      "4757.0\n",
      "809.0\n",
      "5566.0\n",
      "756.0\n",
      "6322.0\n",
      "555.0\n",
      "6877.0\n",
      "2444.0\n",
      "9321.0\n",
      "696.5\n",
      "10017.5\n",
      "73.0\n",
      "10090.5\n",
      "62.0\n",
      "10152.5\n",
      "131.5\n",
      "10284.0\n",
      "90.5\n",
      "10374.5\n",
      "343.0\n",
      "10717.5\n",
      "212.5\n",
      "10930.0\n",
      "2369.0\n",
      "13299.0\n",
      "211.5\n",
      "13510.5\n",
      "120.5\n",
      "13631.0\n",
      "52.0\n",
      "13683.0\n",
      "257.0\n",
      "13940.0\n",
      "492.0\n",
      "14432.0\n",
      "430.5\n",
      "14862.5\n",
      "731.5\n",
      "15594.0\n",
      "339.0\n",
      "15933.0\n",
      "498.5\n",
      "16431.5\n",
      "298.0\n",
      "16729.5\n",
      "416.5\n",
      "17146.0\n",
      "589.5\n",
      "17735.5\n",
      "1103.0\n",
      "18838.5\n",
      "894.5\n",
      "19733.0\n",
      "265.5\n",
      "19998.5\n",
      "800.0\n",
      "20798.5\n",
      "264.5\n",
      "21063.0\n",
      "593.0\n",
      "21656.0\n",
      "740.5\n",
      "22396.5\n",
      "300.0\n",
      "22696.5\n",
      "542.0\n",
      "23238.5\n",
      "917.0\n",
      "24155.5\n",
      "920.5\n",
      "25076.0\n",
      "192.5\n",
      "25268.5\n",
      "444.0\n",
      "25712.5\n",
      "326.5\n",
      "26039.0\n",
      "644.0\n",
      "26683.0\n",
      "163.0\n",
      "26846.0\n",
      "101.0\n",
      "26947.0\n",
      "345.0\n",
      "27292.0\n",
      "217.0\n",
      "27509.0\n",
      "659.0\n",
      "28168.0\n",
      "686.0\n",
      "28854.0\n",
      "301.5\n",
      "29155.5\n",
      "1436.5\n",
      "30592.0\n",
      "17.0\n",
      "30609.0\n",
      "269.5\n",
      "30878.5\n",
      "541.5\n",
      "31420.0\n",
      "178.0\n",
      "31598.0\n",
      "2942.0\n",
      "34540.0\n",
      "375.5\n",
      "34915.5\n",
      "323.0\n",
      "35238.5\n",
      "2090.5\n",
      "37329.0\n",
      "1341.5\n",
      "38670.5\n",
      "127.5\n",
      "38798.0\n",
      "210.0\n",
      "39008.0\n",
      "219.5\n",
      "39227.5\n",
      "518.5\n",
      "39746.0\n",
      "498.0\n",
      "40244.0\n",
      "579.0\n",
      "40823.0\n",
      "2700.5\n",
      "43523.5\n",
      "277.5\n",
      "43801.0\n",
      "527.5\n",
      "44328.5\n",
      "254.0\n",
      "44582.5\n",
      "328.0\n",
      "44910.5\n",
      "320.0\n",
      "45230.5\n",
      "600.5\n",
      "45831.0\n",
      "1080.0\n",
      "46911.0\n",
      "805.0\n",
      "47716.0\n",
      "1879.5\n",
      "49595.5\n",
      "182.0\n",
      "49777.5\n",
      "815.0\n",
      "50592.5\n",
      "202.0\n",
      "50794.5\n",
      "246.5\n",
      "51041.0\n",
      "133.5\n",
      "51174.5\n",
      "111.5\n",
      "51286.0\n",
      "60.5\n",
      "51346.5\n",
      "557.5\n",
      "51904.0\n",
      "1251.0\n",
      "53155.0\n",
      "1241.0\n",
      "54396.0\n",
      "349.5\n",
      "54745.5\n",
      "961.0\n",
      "55706.5\n",
      "669.5\n",
      "56376.0\n",
      "719.0\n",
      "57095.0\n",
      "776.5\n",
      "57871.5\n",
      "546.5\n",
      "58418.0\n",
      "762.5\n",
      "59180.5\n",
      "248.5\n",
      "59429.0\n",
      "494.0\n",
      "59923.0\n",
      "247.0\n",
      "60170.0\n",
      "640.5\n",
      "60810.5\n",
      "1847.5\n",
      "62658.0\n",
      "453.0\n",
      "63111.0\n",
      "1056.0\n",
      "64167.0\n",
      "341.5\n",
      "64508.5\n",
      "274.0\n",
      "64782.5\n",
      "1593.5\n",
      "66376.0\n",
      "309.0\n",
      "66685.0\n",
      "1041.5\n",
      "67726.5\n",
      "258.5\n",
      "67985.0\n",
      "821.5\n",
      "68806.5\n",
      "781.5\n",
      "69588.0\n",
      "239.0\n",
      "69827.0\n",
      "125.5\n",
      "69952.5\n",
      "394.0\n",
      "70346.5\n",
      "446.5\n",
      "70793.0\n",
      "460.0\n",
      "71253.0\n",
      "1035.5\n",
      "72288.5\n",
      "895.0\n",
      "73183.5\n",
      "427.5\n",
      "73611.0\n",
      "121.0\n",
      "73732.0\n",
      "342.5\n",
      "74074.5\n",
      "227.0\n",
      "74301.5\n",
      "200.5\n",
      "74502.0\n",
      "132.5\n",
      "74634.5\n",
      "265.5\n",
      "74900.0\n",
      "207.0\n",
      "75107.0\n",
      "270.5\n",
      "75377.5\n",
      "198.5\n",
      "75576.0\n",
      "458.5\n",
      "76034.5\n",
      "231.0\n",
      "76265.5\n",
      "76265.5\n"
     ]
    }
   ],
   "source": [
    "import json\n",
    "\n",
    "# documentatioan for json can be found using google - particulary:\n",
    "# https://docs.python.org/3/library/json.html\n",
    "\n",
    "with open('dane/opole/sd.geojson') as file:\n",
    "    file_content=json.load(file)\n",
    "    print(\"keys in root: \",file_content.keys())\n",
    "    print(\"type: \",file_content['type'])\n",
    "    print(\"crs: \",file_content['crs'])\n",
    "    print(\"features: \",type(file_content['features']))\n",
    "    print(\"len of items: \", len(file_content['features']))\n",
    "    print(\"\", file_content['features'][30].keys())\n",
    "    print(\"type of feture: \", file_content['features'][30]['type'])\n",
    "    print(\"properties in feature: \", file_content['features'][30]['properties'])\n",
    "    print(\"geometry in feature: \", file_content['features'][30]['geometry'])\n",
    "    p=0\n",
    "    for feature in file_content['features']:\n",
    "        print(\"f\"feature['properties']['src'])\n",
    "        p+=feature['properties']['src']\n",
    "        print(\"p is now: \"p)\n",
    "    print(p)\n",
    "    \n",
    "    "
   ]
  },
  {
   "cell_type": "code",
   "execution_count": 6,
   "metadata": {
    "collapsed": false
   },
   "outputs": [
    {
     "name": "stdout",
     "output_type": "stream",
     "text": [
      "net.geojson  sd.geojson\r\n"
     ]
    }
   ],
   "source": [
    "%ls dane/opole"
   ]
  },
  {
   "cell_type": "code",
   "execution_count": null,
   "metadata": {
    "collapsed": true
   },
   "outputs": [],
   "source": []
  }
 ],
 "metadata": {
  "kernelspec": {
   "display_name": "Python 3",
   "language": "python",
   "name": "python3"
  },
  "language_info": {
   "codemirror_mode": {
    "name": "ipython",
    "version": 3
   },
   "file_extension": ".py",
   "mimetype": "text/x-python",
   "name": "python",
   "nbconvert_exporter": "python",
   "pygments_lexer": "ipython3",
   "version": "3.6.0"
  }
 },
 "nbformat": 4,
 "nbformat_minor": 0
}
