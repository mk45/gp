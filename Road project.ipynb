{
 "cells": [
  {
   "cell_type": "markdown",
   "metadata": {},
   "source": [
    "# Road project"
   ]
  },
  {
   "cell_type": "markdown",
   "metadata": {},
   "source": [
    "Celem projektu jest napisanie pluginu do QGIS wspomagającego działania podejmowane podczas planowania miasta.\n",
    "\n",
    "np:    \n",
    "- zamiana osi dróg na gometrię (poligon) z określoną szerokością/grubością  (zależną od klasy)\n",
    "- łączenie gróg tej samej klasy w ciąg (jedną geometrię)\n",
    "- tworzenie (dodanie) trójkątów widoczności w odpowiednich drogach opowiednie do potrzeb (5m ,10m)\n",
    "- wycinanie obiektów w pasie (v2.0)\n",
    "- promienie skrętu dróg\n",
    "\n",
    "Szczegółowe wytyczne będą dopracowane w trakcie etapów projektu.\n",
    "Jako model rozwoju oprogramowania proponujemy model przyrostowy."
   ]
  },
  {
   "cell_type": "markdown",
   "metadata": {},
   "source": [
    "## Platforma i technologia"
   ]
  },
  {
   "cell_type": "markdown",
   "metadata": {},
   "source": [
    "### GIT (Github)\n",
    "- podstawowa platforma przechowywania projektów \n",
    "- strona domowa projektu\n",
    "- Bugtracker projektu\n",
    "\n",
    "#### Koncepja (nauka) GIT\n",
    "- http://leniwy.eu/news,18,Git-poradnik-poczatkujacego.html\n",
    "- http://konkretny.pl/jak-korzystac-z-gita-poradnik.html\n",
    "- http://rogerdudler.github.io/git-guide/index.pl.html\n",
    "- (bazowa dok GITa) https://git-scm.com/book/pl/v1/Podstawy-Gita-Praca-ze-zdalnym-repozytorium\n",
    "\n",
    "#### Aby zacząć pracę przy projekcie\n",
    "- \n",
    "- Potrzeba założenia konta na Githubie\n",
    "- Generowanie klucza publicznego i prywatnego https://help.github.com/articles/adding-a-new-ssh-key-to-your-github-account/#platform-linux (tylko generowanie klucza bez hasła wystarczy)\n",
    "- dodanie klucza do konta https://help.github.com/articles/adding-a-new-ssh-key-to-your-github-account/#platform-linu- - wysłać nazwę użytkownika abym mógł dołączyć go contributorów\n",
    "\n",
    "#### Dokumentacja wtyczek do QGIS\n",
    "- Jest średnia więc google przyjacielem (może ktoś miał podobny metaproblem) \n",
    "- pamiętajmy, że dir(object) pokazuje \"co umie\" objekt.\n",
    "- PyQt (w którym tworzymy UI i w którym jaest napisane QGIS jaest często przywoływane (przez tę bibliotekę zachodzi wymiana) http://pyqt.sourceforge.net/Docs/PyQt4/index.html\n",
    "- http://docs.qgis.org/testing/en/docs/pyqgis_developer_cookbook/index.html \n",
    "    - jako podstrony w szczegółności\n",
    "    - http://docs.qgis.org/testing/en/docs/pyqgis_developer_cookbook/plugins.html\n",
    "    - http://docs.qgis.org/testing/en/docs/pyqgis_developer_cookbook/vector.html\n",
    "-     \n",
    "\n",
    "#### Główne kamienie milowe\n",
    "- wstepne\n",
    "    - Przeczytać warstwę linii (geometria , attrybuty)\n",
    "    - Dostać się do jej attrybutów (czytanie nazw attrybutów )\n",
    "    - Odpowiedzialność za komentarze !!\n",
    "    - Odpowiedzialność za dokumentację\n",
    "    - stworzenie prostej sieci testowej (4 klasy dróg od najmniejszych) ()\n",
    "    - Zrobienie ikonki (Niebanalne)\n",
    "    - Opisy w pliku metadata.txt\n",
    "    - Wymyślić ostateczną nazwę dla projektu\n",
    "\n",
    "- milestone\n",
    "    - przeczytać jakie warstwy są naniesione na panel warstw (tyko aktywne ?)\n",
    "\n",
    "- milestone\n",
    "    - Tworzenie prostego interfacu wybierającego warstwę (+OK)\n",
    "    - Droplista uzupełniana \n",
    "    \n",
    "- milestone \n",
    "    - Tworzenie warstwy (poligon) (w pamięci)\n",
    "    - Tworzenie poligonu dla/z jednej lini [(a,b),(c,d)]\n",
    "\n",
    "- milestone\n",
    "    - Tworzenie poligonu z grubością\n",
    "    - Tworzenie poligonu z grubością zależną od klasy\n",
    "\n",
    "- milestone \n",
    "    - Towrzenie poligonu z odpowiedniem zagięciem (trudne zadanie ! - wektory). \n",
    "    - Rozwiązanie problemu wyprofilowania ? A może do tego inny plugin ? \n",
    "\n",
    "- milestone \n",
    "    - Łączenie w zależności od klasy\n",
    "    - Co łączyć w zależności od klasy? Poligony ? A może linie (w locie pod spodem) i dopiero na tym budować poligony?\n",
    "\n",
    "- milestone \n",
    "   - Trójkąty widoczności.\n",
    "   \n",
    "- milestone\n",
    "   - Plik CSV z informacją o stanie prawnym (do późniejszej zmainy)\n",
    "   \n"
   ]
  },
  {
   "cell_type": "code",
   "execution_count": null,
   "metadata": {
    "collapsed": true
   },
   "outputs": [],
   "source": []
  }
 ],
 "metadata": {
  "kernelspec": {
   "display_name": "Python 3",
   "language": "python",
   "name": "python3"
  },
  "language_info": {
   "codemirror_mode": {
    "name": "ipython",
    "version": 3
   },
   "file_extension": ".py",
   "mimetype": "text/x-python",
   "name": "python",
   "nbconvert_exporter": "python",
   "pygments_lexer": "ipython3",
   "version": "3.6.0"
  }
 },
 "nbformat": 4,
 "nbformat_minor": 2
}
